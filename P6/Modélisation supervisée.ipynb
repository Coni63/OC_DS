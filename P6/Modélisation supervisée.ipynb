{
 "cells": [
  {
   "cell_type": "markdown",
   "metadata": {},
   "source": [
    "# MultiLabel Classifier"
   ]
  },
  {
   "cell_type": "code",
   "execution_count": 1,
   "metadata": {
    "collapsed": true
   },
   "outputs": [],
   "source": [
    "import numpy as np\n",
    "import pickle\n",
    "\n",
    "from scipy.stats import entropy\n",
    "from scipy.sparse import save_npz, load_npz\n",
    "\n",
    "from sklearn.multiclass import OneVsRestClassifier\n",
    "\n",
    "from sklearn.externals import joblib\n",
    "\n",
    "import warnings\n",
    "warnings.filterwarnings('ignore')"
   ]
  },
  {
   "cell_type": "code",
   "execution_count": 2,
   "metadata": {
    "collapsed": true
   },
   "outputs": [],
   "source": [
    "def save_obj(obj, name ):\n",
    "    with open(name + '.pkl', 'wb') as f:\n",
    "        pickle.dump(obj, f, pickle.HIGHEST_PROTOCOL)\n",
    "\n",
    "def load_obj(name):\n",
    "    with open(name + '.pkl', 'rb') as f:\n",
    "        return pickle.load(f)"
   ]
  },
  {
   "cell_type": "code",
   "execution_count": 3,
   "metadata": {
    "collapsed": true
   },
   "outputs": [],
   "source": [
    "# https://www.youtube.com/watch?v=3mHy4OSyRf0 à 17min19\n",
    "# https://stackoverflow.com/questions/15880133/jensen-shannon-divergence\n",
    "\n",
    "def JS_Divergence(P, Q):\n",
    "    _P = P / np.linalg.norm(P, ord=1)\n",
    "    _Q = Q / np.linalg.norm(Q, ord=1)\n",
    "    _M = 0.5 * (_P + _Q)\n",
    "    return 0.5 * (entropy(_P, _M) + entropy(_Q, _M))"
   ]
  },
  {
   "cell_type": "code",
   "execution_count": 4,
   "metadata": {
    "collapsed": true
   },
   "outputs": [],
   "source": [
    "# autre que http://scikit-learn.org/stable/modules/model_evaluation.html#multilabel-ranking-metrics\n",
    "\n",
    "def to_index(matrix):\n",
    "    matrix = matrix.tolist()\n",
    "    result = []\n",
    "    for row in matrix:\n",
    "        r = []\n",
    "        for index, col in enumerate(row):\n",
    "            if col == 1:\n",
    "                r.append(index)\n",
    "        result.append(r)\n",
    "    return result\n",
    "\n",
    "def score_custom(y_true, y_pred, nb_elem=5):\n",
    "    sum_score = 0\n",
    "    y_pred = np.argsort(y_pred, axis=1)[:, -nb_elem:]\n",
    "    for i in range(y_pred.shape[0]):\n",
    "        intersection = len(np.intersect1d(y_pred[i], y_true[i]))\n",
    "        nb_choice = len(y_true[i])\n",
    "        sum_score += intersection/nb_choice\n",
    "    return sum_score/y_pred.shape[0]"
   ]
  },
  {
   "cell_type": "markdown",
   "metadata": {},
   "source": [
    "## Chargement des données"
   ]
  },
  {
   "cell_type": "code",
   "execution_count": 5,
   "metadata": {
    "collapsed": true
   },
   "outputs": [],
   "source": [
    "X_train = load_obj(\"datas/X_train\")\n",
    "X_test = load_obj(\"datas/X_test\")\n",
    "\n",
    "taglist = load_obj(\"datas/taglist\")\n",
    "\n",
    "y_train_clean = load_obj(\"datas/y_train\")\n",
    "y_test_clean = load_obj(\"datas/y_test\")\n",
    "\n",
    "mlb = joblib.load(\"models/MultiLabelBinarizer\")\n",
    "y_train = mlb.transform(y_train_clean)\n",
    "y_test = mlb.transform(y_test_clean)\n",
    "\n",
    "y_test_index = to_index(y_test)\n",
    "y_train_index = to_index(y_train)"
   ]
  },
  {
   "cell_type": "code",
   "execution_count": 6,
   "metadata": {
    "collapsed": true
   },
   "outputs": [],
   "source": [
    "# preparation de la tfidf de test\n",
    "\n",
    "# tfidf = joblib.load(\"models/TfidfVectorizer\")  # chargement du tfidf trained sur le train set\n",
    "# tfidfMatrix_test = tfidf.transform(X_test)\n",
    "# save_npz('datas/tfidfMatrix_test.npz', tfidfMatrix_test)"
   ]
  },
  {
   "cell_type": "code",
   "execution_count": 7,
   "metadata": {
    "collapsed": true
   },
   "outputs": [],
   "source": [
    "tfidfMatrix = load_npz('datas/tfidfMatrix.npz')             # on a deja le test set de calculé precedemment\n",
    "tfidfMatrix_test = load_npz('datas/tfidfMatrix_test.npz')"
   ]
  },
  {
   "cell_type": "markdown",
   "metadata": {},
   "source": [
    "# 1ere evaluation des Modèles"
   ]
  },
  {
   "cell_type": "markdown",
   "metadata": {},
   "source": [
    "## Multiclass avec MultiOutputClassifier"
   ]
  },
  {
   "cell_type": "markdown",
   "metadata": {},
   "source": [
    "### SGDC"
   ]
  },
  {
   "cell_type": "code",
   "execution_count": 28,
   "metadata": {},
   "outputs": [
    {
     "name": "stdout",
     "output_type": "stream",
     "text": [
      "train_score =  0.6268096311461413\n",
      "test_score =  0.6057808982742091\n"
     ]
    }
   ],
   "source": [
    "# from sklearn.linear_model import SGDClassifier\n",
    "\n",
    "# mdl = SGDClassifier(loss=\"log\", max_iter=5, tol=None)\n",
    "# ovr = OneVsRestClassifier(mdl)\n",
    "# ovr.fit(tfidfMatrix, y_train)\n",
    "\n",
    "# proba_train = ovr.predict_proba(tfidfMatrix)\n",
    "# proba_test = ovr.predict_proba(tfidfMatrix_test)\n",
    "\n",
    "# print(\"train_score = \", score_custom(y_train_index, proba_train))\n",
    "# print(\"test_score = \", score_custom(y_test_index, proba_test))"
   ]
  },
  {
   "cell_type": "code",
   "execution_count": 130,
   "metadata": {},
   "outputs": [
    {
     "name": "stdout",
     "output_type": "stream",
     "text": [
      "train_score =  0.7933666963073261\n",
      "train_score =  0.7140818951656324\n"
     ]
    }
   ],
   "source": [
    "from sklearn.multioutput import MultiOutputClassifier\n",
    "from sklearn.linear_model import SGDClassifier\n",
    "\n",
    "# https://github.com/scikit-learn/scikit-learn/issues/10113\n",
    "class Simple(SGDClassifier):\n",
    "    # be sure to add the rest of the parameters if you need them\n",
    "    def __init__(self, loss='log'):\n",
    "        super(Simple, self).__init__(loss=loss, penalty=None, max_iter=10, tol=None)\n",
    "    \n",
    "    def predict_proba(self, X):\n",
    "        return super(Simple, self).predict_proba(X)\n",
    "\n",
    "# mdl = SGDClassifier(loss=\"log\", max_iter=10, tol=None)\n",
    "moc = MultiOutputClassifier(Simple())\n",
    "moc.fit(tfidfMatrix, y_train)\n",
    "\n",
    "proba_train = moc.predict_proba(tfidfMatrix)\n",
    "proba_test = moc.predict_proba(tfidfMatrix_test)\n",
    "\n",
    "train = np.delete(proba_train, 0, axis=2)[:, :, 0].T\n",
    "test = np.delete(proba_test, 0, axis=2)[:, :, 0].T\n",
    "\n",
    "print(\"train_score = \", score_custom(y_train_index, train))\n",
    "print(\"train_score = \", score_custom(y_test_index, test))"
   ]
  },
  {
   "cell_type": "markdown",
   "metadata": {},
   "source": [
    "### AdaBoostClassifier"
   ]
  },
  {
   "cell_type": "code",
   "execution_count": null,
   "metadata": {
    "collapsed": true
   },
   "outputs": [],
   "source": [
    "# from sklearn.ensemble import AdaBoostClassifier\n",
    "\n",
    "# mdl = SGDClassifier(loss=\"log\", max_iter=5, tol=None)\n",
    "# ens = AdaBoostClassifier(n_estimators=5)\n",
    "# ovr = OneVsRestClassifier(ens)\n",
    "# ovr.fit(tfidfMatrix, y_train)\n",
    "\n",
    "# proba_train = ovr.predict_proba(tfidfMatrix)\n",
    "# proba_test = ovr.predict_proba(tfidfMatrix_test)\n",
    "\n",
    "# print(\"train_score = \", score_custom(y_train_index, proba_train))\n",
    "# print(\"test_score = \", score_custom(y_test_index, proba_test))"
   ]
  },
  {
   "cell_type": "markdown",
   "metadata": {},
   "source": [
    "Très très lent"
   ]
  },
  {
   "cell_type": "markdown",
   "metadata": {},
   "source": [
    "### GradientBoostingClassifier"
   ]
  },
  {
   "cell_type": "code",
   "execution_count": null,
   "metadata": {
    "collapsed": true
   },
   "outputs": [],
   "source": [
    "# from sklearn.ensemble import GradientBoostingClassifier\n",
    "\n",
    "# mdl = GradientBoostingClassifier(loss=\"deviance\", n_estimators=10, max_depth=3)\n",
    "# ovr = OneVsRestClassifier(mdl)\n",
    "# ovr.fit(tfidfMatrix, y_train)\n",
    "\n",
    "# proba_train = ovr.predict_proba(tfidfMatrix)\n",
    "# proba_test = ovr.predict_proba(tfidfMatrix_test)\n",
    "\n",
    "# print(\"train_score = \", score_custom(y_train_index, proba_train))\n",
    "# print(\"test_score = \", score_custom(y_test_index, proba_test))"
   ]
  },
  {
   "cell_type": "markdown",
   "metadata": {},
   "source": [
    "Entraine des arbres de decision (tres tres lent)"
   ]
  },
  {
   "cell_type": "markdown",
   "metadata": {},
   "source": [
    "### GaussianProcessClassifier"
   ]
  },
  {
   "cell_type": "code",
   "execution_count": null,
   "metadata": {
    "collapsed": true
   },
   "outputs": [],
   "source": [
    "# from sklearn.gaussian_process import GaussianProcessClassifier\n",
    "\n",
    "# mdl = GaussianProcessClassifier(multi_class=\"one_vs_rest\", n_jobs = -1)\n",
    "# ovr = OneVsRestClassifier(mdl)\n",
    "# ovr.fit(tfidfMatrix, y_train)\n",
    "\n",
    "# proba_train = ovr.predict_proba(tfidfMatrix)\n",
    "# proba_test = ovr.predict_proba(tfidfMatrix_test)\n",
    "\n",
    "# print(\"train_score = \", score_custom(y_train_index, proba_train))\n",
    "# print(\"test_score = \", score_custom(y_test_index, proba_test))"
   ]
  },
  {
   "cell_type": "markdown",
   "metadata": {},
   "source": [
    "Necessite des matrices non sparse => Memory Error"
   ]
  },
  {
   "cell_type": "markdown",
   "metadata": {},
   "source": [
    "## Multilabel"
   ]
  },
  {
   "cell_type": "markdown",
   "metadata": {},
   "source": [
    "### ExtraTreesClassifier"
   ]
  },
  {
   "cell_type": "code",
   "execution_count": 63,
   "metadata": {},
   "outputs": [
    {
     "data": {
      "text/plain": [
       "ExtraTreesClassifier(bootstrap=False, class_weight=None, criterion='gini',\n",
       "           max_depth=13, max_features='auto', max_leaf_nodes=None,\n",
       "           min_impurity_decrease=0.0, min_impurity_split=None,\n",
       "           min_samples_leaf=1, min_samples_split=2,\n",
       "           min_weight_fraction_leaf=0.0, n_estimators=20, n_jobs=1,\n",
       "           oob_score=False, random_state=None, verbose=0, warm_start=False)"
      ]
     },
     "execution_count": 63,
     "metadata": {},
     "output_type": "execute_result"
    }
   ],
   "source": [
    "from sklearn.ensemble import ExtraTreesClassifier\n",
    "\n",
    "mdl = ExtraTreesClassifier(n_estimators=20, max_depth=13)\n",
    "mdl.fit(tfidfMatrix, y_train)"
   ]
  },
  {
   "cell_type": "code",
   "execution_count": 64,
   "metadata": {},
   "outputs": [
    {
     "name": "stdout",
     "output_type": "stream",
     "text": [
      "train_score =  0.37547373355116703\n",
      "train_score =  0.3616882838460878\n"
     ]
    }
   ],
   "source": [
    "proba_train = mdl.predict_proba(tfidfMatrix)\n",
    "proba_test = mdl.predict_proba(tfidfMatrix_test)\n",
    "\n",
    "train = np.delete(proba_train, 0, axis=2)[:, :, 0]\n",
    "test = np.delete(proba_test, 0, axis=2)[:, :, 0]\n",
    "\n",
    "print(\"train_score = \", score_custom(y_train_index, train.T))\n",
    "print(\"train_score = \", score_custom(y_test_index, test.T))"
   ]
  },
  {
   "cell_type": "markdown",
   "metadata": {},
   "source": [
    "### RandomForestClassifier"
   ]
  },
  {
   "cell_type": "code",
   "execution_count": 65,
   "metadata": {},
   "outputs": [
    {
     "data": {
      "text/plain": [
       "RandomForestClassifier(bootstrap=True, class_weight=None, criterion='gini',\n",
       "            max_depth=13, max_features='auto', max_leaf_nodes=None,\n",
       "            min_impurity_decrease=0.0, min_impurity_split=None,\n",
       "            min_samples_leaf=1, min_samples_split=2,\n",
       "            min_weight_fraction_leaf=0.0, n_estimators=20, n_jobs=1,\n",
       "            oob_score=False, random_state=None, verbose=0,\n",
       "            warm_start=False)"
      ]
     },
     "execution_count": 65,
     "metadata": {},
     "output_type": "execute_result"
    }
   ],
   "source": [
    "from sklearn.ensemble import RandomForestClassifier\n",
    "\n",
    "mdl = RandomForestClassifier(n_estimators=20, max_depth=13)\n",
    "mdl.fit(tfidfMatrix, y_train)"
   ]
  },
  {
   "cell_type": "code",
   "execution_count": 66,
   "metadata": {},
   "outputs": [
    {
     "name": "stdout",
     "output_type": "stream",
     "text": [
      "train_score =  0.4712651046728819\n",
      "train_score =  0.4517043627398417\n"
     ]
    }
   ],
   "source": [
    "proba_train = mdl.predict_proba(tfidfMatrix)\n",
    "proba_test = mdl.predict_proba(tfidfMatrix_test)\n",
    "\n",
    "train = np.delete(proba_train, 0, axis=2)[:, :, 0]\n",
    "test = np.delete(proba_test, 0, axis=2)[:, :, 0]\n",
    "\n",
    "print(\"train_score = \", score_custom(y_train_index, train.T))\n",
    "print(\"train_score = \", score_custom(y_test_index, test.T))"
   ]
  },
  {
   "cell_type": "markdown",
   "metadata": {},
   "source": [
    "### MLPClassifier"
   ]
  },
  {
   "cell_type": "code",
   "execution_count": 33,
   "metadata": {},
   "outputs": [
    {
     "name": "stdout",
     "output_type": "stream",
     "text": [
      "train_score =  0.8205158163933511\n",
      "test_score =  0.6889105656197734\n"
     ]
    }
   ],
   "source": [
    "# from sklearn.neural_network import MLPClassifier\n",
    "\n",
    "mdl = MLPClassifier(hidden_layer_sizes=(200, 100), early_stopping=True)\n",
    "mdl.fit(tfidfMatrix, y_train)\n",
    "\n",
    "proba_train = mdl.predict_proba(tfidfMatrix)\n",
    "proba_test = mdl.predict_proba(tfidfMatrix_test)\n",
    "\n",
    "print(\"train_score = \", score_custom(y_train_index, proba_train))\n",
    "print(\"test_score = \", score_custom(y_test_index, proba_test))"
   ]
  },
  {
   "cell_type": "markdown",
   "metadata": {},
   "source": [
    "<b>Attention</b>, cette precision n'est peut-être pas tres accurate car on a 3000 features (col_tfidf) en entrée et 773 en sorties (nb_classes). De ce fait, le MLP a 3000 layer puis 200 puis 100 puis 773. On perd beacoup d'information a cause des hidden layers. Cependant, au vu du resultat une évalusation sera faite avec Keras (plus rapide car sur GPU) par la suite"
   ]
  },
  {
   "cell_type": "markdown",
   "metadata": {},
   "source": [
    "### KNeighborsClassifier"
   ]
  },
  {
   "cell_type": "code",
   "execution_count": null,
   "metadata": {
    "collapsed": true
   },
   "outputs": [],
   "source": [
    "# from sklearn.neighbors import KNeighborsClassifier\n",
    "\n",
    "# mdl = KNeighborsClassifier(n_neighbors=5, metric=JS_Divergence)\n",
    "# mdl.fit(tfidfMatrix.todense(), y_train)\n",
    "\n",
    "# proba_train = ovr.predict_proba(tfidfMatrix.todense())\n",
    "# proba_test = ovr.predict_proba(tfidfMatrix_test.todense())\n",
    "\n",
    "# print(\"train_score = \", score_custom(y_train_index, proba_train))\n",
    "# print(\"test_score = \", score_custom(y_test_index, proba_test))"
   ]
  },
  {
   "cell_type": "markdown",
   "metadata": {},
   "source": [
    "OOB car il faut des marices denses"
   ]
  },
  {
   "cell_type": "markdown",
   "metadata": {},
   "source": [
    "### RidgeClassifierCV"
   ]
  },
  {
   "cell_type": "code",
   "execution_count": null,
   "metadata": {
    "collapsed": true
   },
   "outputs": [],
   "source": [
    "# from sklearn.linear_model import RidgeClassifierCV\n",
    "\n",
    "# mdl = RidgeClassifierCV()\n",
    "# mdl.fit(tfidfMatrix, y_train)\n",
    "\n",
    "# proba = mdl.predict(tfidfMatrix_test)\n",
    "# print(score_custom(y_index, proba))"
   ]
  },
  {
   "cell_type": "markdown",
   "metadata": {},
   "source": [
    "OOB car modele lienaire avec inversion de X*tX"
   ]
  },
  {
   "cell_type": "markdown",
   "metadata": {},
   "source": [
    "## Fine tuning"
   ]
  },
  {
   "cell_type": "code",
   "execution_count": 16,
   "metadata": {},
   "outputs": [
    {
     "name": "stdout",
     "output_type": "stream",
     "text": [
      "{'alpha': 1e-06, 'penalty': 'l1'}\n",
      "Avg train : 0.9877822296899462\n",
      "Avg test : 0.6494928085653927\n",
      "{'alpha': 1e-06, 'penalty': 'l2'}\n",
      "Avg train : 0.9816750678557588\n",
      "Avg test : 0.6803481986949774\n",
      "{'alpha': 1e-05, 'penalty': 'l1'}\n",
      "Avg train : 0.8290205793230494\n",
      "Avg test : 0.731448166528819\n",
      "{'alpha': 1e-05, 'penalty': 'l2'}\n",
      "Avg train : 0.8770924705240523\n",
      "Avg test : 0.7281930658946861\n",
      "{'alpha': 0.0001, 'penalty': 'l1'}\n",
      "Avg train : 0.6656441629687199\n",
      "Avg test : 0.6605757742854554\n",
      "{'alpha': 0.0001, 'penalty': 'l2'}\n",
      "Avg train : 0.6378524550141541\n",
      "Avg test : 0.6067755720981541\n",
      "{'alpha': 0.001, 'penalty': 'l1'}\n",
      "Avg train : 0.3847140005457325\n",
      "Avg test : 0.38721165334068885\n",
      "{'alpha': 0.001, 'penalty': 'l2'}\n",
      "Avg train : 0.38658265477576964\n",
      "Avg test : 0.3845918343902252\n",
      "{'alpha': 0.01, 'penalty': 'l1'}\n",
      "Avg train : 0.18403285798398925\n",
      "Avg test : 0.1868457632570514\n",
      "{'alpha': 0.01, 'penalty': 'l2'}\n",
      "Avg train : 0.2618663564689171\n",
      "Avg test : 0.2624753009833658\n"
     ]
    },
    {
     "ename": "TypeError",
     "evalue": "'NoneType' object is not iterable",
     "output_type": "error",
     "traceback": [
      "\u001b[1;31m---------------------------------------------------------------------------\u001b[0m",
      "\u001b[1;31mTypeError\u001b[0m                                 Traceback (most recent call last)",
      "\u001b[1;32m<ipython-input-16-826509b6af32>\u001b[0m in \u001b[0;36m<module>\u001b[1;34m()\u001b[0m\n\u001b[0;32m     29\u001b[0m \u001b[0mrs\u001b[0m \u001b[1;33m=\u001b[0m \u001b[0mShuffleSplit\u001b[0m\u001b[1;33m(\u001b[0m\u001b[0mn_splits\u001b[0m\u001b[1;33m=\u001b[0m\u001b[1;36m3\u001b[0m\u001b[1;33m,\u001b[0m \u001b[0mtest_size\u001b[0m\u001b[1;33m=\u001b[0m\u001b[1;36m.2\u001b[0m\u001b[1;33m,\u001b[0m \u001b[0mrandom_state\u001b[0m\u001b[1;33m=\u001b[0m\u001b[1;36m0\u001b[0m\u001b[1;33m)\u001b[0m\u001b[1;33m\u001b[0m\u001b[0m\n\u001b[0;32m     30\u001b[0m \u001b[1;33m\u001b[0m\u001b[0m\n\u001b[1;32m---> 31\u001b[1;33m \u001b[1;32mfor\u001b[0m \u001b[0mparams\u001b[0m \u001b[1;32min\u001b[0m \u001b[0mParameterGrid\u001b[0m\u001b[1;33m(\u001b[0m\u001b[0mparameters_list\u001b[0m\u001b[1;33m)\u001b[0m\u001b[1;33m:\u001b[0m\u001b[1;33m\u001b[0m\u001b[0m\n\u001b[0m\u001b[0;32m     32\u001b[0m     \u001b[0mprint\u001b[0m\u001b[1;33m(\u001b[0m\u001b[0mparams\u001b[0m\u001b[1;33m)\u001b[0m\u001b[1;33m\u001b[0m\u001b[0m\n\u001b[0;32m     33\u001b[0m     \u001b[0mavg_train\u001b[0m \u001b[1;33m=\u001b[0m \u001b[1;33m[\u001b[0m\u001b[1;33m]\u001b[0m\u001b[1;33m\u001b[0m\u001b[0m\n",
      "\u001b[1;32mC:\\Anaconda501\\lib\\site-packages\\sklearn\\model_selection\\_search.py\u001b[0m in \u001b[0;36m__iter__\u001b[1;34m(self)\u001b[0m\n\u001b[0;32m    113\u001b[0m             \u001b[1;32melse\u001b[0m\u001b[1;33m:\u001b[0m\u001b[1;33m\u001b[0m\u001b[0m\n\u001b[0;32m    114\u001b[0m                 \u001b[0mkeys\u001b[0m\u001b[1;33m,\u001b[0m \u001b[0mvalues\u001b[0m \u001b[1;33m=\u001b[0m \u001b[0mzip\u001b[0m\u001b[1;33m(\u001b[0m\u001b[1;33m*\u001b[0m\u001b[0mitems\u001b[0m\u001b[1;33m)\u001b[0m\u001b[1;33m\u001b[0m\u001b[0m\n\u001b[1;32m--> 115\u001b[1;33m                 \u001b[1;32mfor\u001b[0m \u001b[0mv\u001b[0m \u001b[1;32min\u001b[0m \u001b[0mproduct\u001b[0m\u001b[1;33m(\u001b[0m\u001b[1;33m*\u001b[0m\u001b[0mvalues\u001b[0m\u001b[1;33m)\u001b[0m\u001b[1;33m:\u001b[0m\u001b[1;33m\u001b[0m\u001b[0m\n\u001b[0m\u001b[0;32m    116\u001b[0m                     \u001b[0mparams\u001b[0m \u001b[1;33m=\u001b[0m \u001b[0mdict\u001b[0m\u001b[1;33m(\u001b[0m\u001b[0mzip\u001b[0m\u001b[1;33m(\u001b[0m\u001b[0mkeys\u001b[0m\u001b[1;33m,\u001b[0m \u001b[0mv\u001b[0m\u001b[1;33m)\u001b[0m\u001b[1;33m)\u001b[0m\u001b[1;33m\u001b[0m\u001b[0m\n\u001b[0;32m    117\u001b[0m                     \u001b[1;32myield\u001b[0m \u001b[0mparams\u001b[0m\u001b[1;33m\u001b[0m\u001b[0m\n",
      "\u001b[1;31mTypeError\u001b[0m: 'NoneType' object is not iterable"
     ]
    }
   ],
   "source": [
    "from sklearn.model_selection import ParameterGrid\n",
    "from sklearn.model_selection import ShuffleSplit\n",
    "from sklearn.multioutput import MultiOutputClassifier\n",
    "from sklearn.linear_model import SGDClassifier\n",
    "    \n",
    "\n",
    "# https://github.com/scikit-learn/scikit-learn/issues/10113\n",
    "class Classifier(SGDClassifier):\n",
    "    def __init__(self, penalty=None, alpha=0.0001):\n",
    "        super(Classifier, self).__init__(n_jobs=-1, \n",
    "                                         loss=\"log\",\n",
    "                                         penalty=penalty, \n",
    "                                         alpha=alpha, \n",
    "                                         max_iter=20,\n",
    "                                         tol=1e-3)\n",
    "    \n",
    "    def predict_proba(self, X):\n",
    "        return super(Classifier, self).predict_proba(X)\n",
    "\n",
    "parameters_list = [\n",
    "{\n",
    "    \"penalty\": [\"l1\", \"l2\"],\n",
    "    \"alpha\": [1e-6, 1e-5, 1e-4, 1e-3, 1e-2]\n",
    "}, {\n",
    "    \"penalty\": \"none\"\n",
    "}\n",
    "]\n",
    "\n",
    "rs = ShuffleSplit(n_splits=3, test_size=.2, random_state=0)\n",
    "\n",
    "for params in ParameterGrid(parameters_list):\n",
    "    print(params)\n",
    "    avg_train = []\n",
    "    avg_test = []\n",
    "    mdl = Classifier(**params)\n",
    "    moc = MultiOutputClassifier(mdl)\n",
    "    for train_index, test_index in rs.split(tfidfMatrix):\n",
    "        X_train_cv, X_test_cv = tfidfMatrix[train_index], tfidfMatrix[test_index]\n",
    "        y_train_cv, y_test_cv = y_train[train_index], y_train[test_index]\n",
    "        y_indexed_train =  [y_train_index[i] for i in train_index]\n",
    "        y_indexed_test =  [y_train_index[i] for i in test_index]\n",
    "        \n",
    "        moc.fit(X_train_cv, y_train_cv)\n",
    "        \n",
    "        proba_train = moc.predict_proba(X_train_cv)\n",
    "        proba_test = moc.predict_proba(X_test_cv)\n",
    "        \n",
    "        pred_train = np.delete(proba_train, 0, axis=2)[:, :, 0].T\n",
    "        pred_test = np.delete(proba_test, 0, axis=2)[:, :, 0].T\n",
    "\n",
    "        score_train = score_custom(y_indexed_train, pred_train)\n",
    "        score_test  = score_custom(y_indexed_test, pred_test)\n",
    "\n",
    "        avg_train.append(score_train)\n",
    "        avg_test.append(score_test)\n",
    "    print(\"Avg train :\", sum(avg_train)/len(avg_train))\n",
    "    print(\"Avg test :\", sum(avg_test)/len(avg_test))\n",
    "\n",
    "#     score_train, score_test = custom_predict(moc.predict_proba(tfidfMatrix_test), None, y_test, None)\n",
    "#     print(\"validation_score = \", score_train, \"\\n\")"
   ]
  },
  {
   "cell_type": "code",
   "execution_count": 17,
   "metadata": {},
   "outputs": [
    {
     "name": "stdout",
     "output_type": "stream",
     "text": [
      "train_score =  0.6672873972055308\n",
      "train_score =  0.6618855182763589\n"
     ]
    }
   ],
   "source": [
    "mdl = Classifier(penalty=\"l1\", alpha=1e-4)\n",
    "moc = MultiOutputClassifier(mdl)\n",
    "\n",
    "moc.fit(tfidfMatrix, y_train)\n",
    "\n",
    "proba_train = moc.predict_proba(tfidfMatrix)\n",
    "proba_test = moc.predict_proba(tfidfMatrix_test)\n",
    "\n",
    "train = np.delete(proba_train, 0, axis=2)[:, :, 0].T\n",
    "test = np.delete(proba_test, 0, axis=2)[:, :, 0].T\n",
    "\n",
    "print(\"train_score = \", score_custom(y_train_index, train))\n",
    "print(\"train_score = \", score_custom(y_test_index, test))"
   ]
  },
  {
   "cell_type": "code",
   "execution_count": 18,
   "metadata": {},
   "outputs": [
    {
     "data": {
      "text/plain": [
       "['models/MOC']"
      ]
     },
     "execution_count": 18,
     "metadata": {},
     "output_type": "execute_result"
    }
   ],
   "source": [
    "joblib.dump(moc, \"models/MOC\")"
   ]
  },
  {
   "cell_type": "markdown",
   "metadata": {},
   "source": [
    "Les régularisation diminue le score mais rapproche le train et test set au niveau des resultats. Au final la regualrisation permet de mieux généraliser mais avec de moins bons resultats. Le nombre d'iteration n'aide pas particulierement a partir de 10 itérations. On va garder pour l'API le modèle linéaire sans régularisation car le test set reste plus haut."
   ]
  },
  {
   "cell_type": "markdown",
   "metadata": {},
   "source": [
    "### Results"
   ]
  },
  {
   "cell_type": "code",
   "execution_count": 33,
   "metadata": {},
   "outputs": [
    {
     "name": "stdout",
     "output_type": "stream",
     "text": [
      "Les tags associés au post choisis sont : \n",
      "\t python\n",
      "\t iterator\n",
      "\t iteration\n",
      "\n",
      "La prédiction du SGDC est :\n",
      "\tpython (45.54)%\n",
      "\tc++ (21.22)%\n",
      "\tc (3.86)%\n",
      "\tjava (3.71)%\n",
      "\t.net (2.32)%\n"
     ]
    }
   ],
   "source": [
    "index_eval = 0\n",
    "\n",
    "elem = y_test_clean[index_eval]\n",
    "y_pred = moc.predict_proba(tfidfMatrix_test[index_eval])\n",
    "\n",
    "y_pred = np.delete(y_pred, 0, axis=2)[:, :, 0].T\n",
    "classes = np.argsort(y_pred, axis=1)[:, -5:].tolist()[0][::-1]\n",
    "mlb = joblib.load(\"models/MultiLabelBinarizer\")\n",
    "classname = mlb.classes_\n",
    "tags = [classname[classnum] for classnum in classes]\n",
    "\n",
    "print(\"Les tags associés au post choisis sont : \")\n",
    "for tag in elem:\n",
    "    print(\"\\t\", tag)\n",
    "print(\"\\nLa prédiction du SGDC est :\")\n",
    "for index, tag in enumerate(tags):\n",
    "    print(\"\\t{} ({:.2f})%\".format(tag, 100*y_pred[0][classes[index]]))"
   ]
  },
  {
   "cell_type": "markdown",
   "metadata": {},
   "source": [
    "### Analyse poids"
   ]
  },
  {
   "cell_type": "code",
   "execution_count": 35,
   "metadata": {
    "collapsed": true
   },
   "outputs": [],
   "source": [
    "import nltk\n",
    "\n",
    "stemmer = nltk.stem.PorterStemmer()\n",
    "tokenizer = nltk.RegexpTokenizer(r'(\\w+|\\d+)')\n",
    "\n",
    "def stem_tokens(tokens, stemmer):\n",
    "    stemmed = []\n",
    "    for item in tokens:\n",
    "        stemmed.append(stemmer.stem(item))\n",
    "    return stemmed\n",
    "\n",
    "def tokenize(text):\n",
    "    tokens = tokenizer.tokenize(text)\n",
    "    stems = stem_tokens(tokens, stemmer)\n",
    "    return stems\n",
    "\n",
    "tfidf = joblib.load(\"models/TfidfVectorizer\")\n",
    "\n",
    "vocab = []\n",
    "for i in range(len(tfidf.vocabulary_)):\n",
    "    for key, pos in tfidf.vocabulary_.items():\n",
    "        if pos == i:\n",
    "            vocab.append(key)\n",
    "            continue"
   ]
  },
  {
   "cell_type": "code",
   "execution_count": 43,
   "metadata": {},
   "outputs": [
    {
     "name": "stdout",
     "output_type": "stream",
     "text": [
      "0 .htaccess\n",
      "1 .net\n",
      "2 .net-2.0\n",
      "3 .net-3.5\n",
      "4 .net-4.0\n",
      "5 3d\n",
      "6 64bit\n",
      "7 abstract-class\n",
      "8 accessibility\n",
      "9 actionscript-3\n",
      "10 active-directory\n",
      "11 activerecord\n",
      "12 ado.net\n",
      "13 agile\n",
      "14 air\n",
      "15 ajax\n",
      "16 algorithm\n",
      "17 amazon-ec2\n",
      "18 amazon-s3\n",
      "19 amazon-web-services\n",
      "20 android\n",
      "21 android-actionbar\n",
      "22 android-activity\n",
      "23 android-emulator\n",
      "24 android-fragments\n",
      "25 android-gradle\n",
      "26 android-intent\n",
      "27 android-layout\n",
      "28 android-listview\n",
      "29 android-ndk\n",
      "30 android-studio\n",
      "31 android-viewpager\n",
      "32 angular\n",
      "33 angularjs\n",
      "34 angularjs-directive\n",
      "35 animation\n",
      "36 annotations\n",
      "37 ant\n",
      "38 apache\n",
      "39 apache-spark\n",
      "40 api\n",
      "41 app-config\n",
      "42 architecture\n",
      "43 arraylist\n",
      "44 arrays\n",
      "45 artificial-intelligence\n",
      "46 asp-classic\n",
      "47 asp.net\n",
      "48 asp.net-ajax\n",
      "49 asp.net-core\n",
      "50 asp.net-mvc\n",
      "51 asp.net-mvc-3\n",
      "52 asp.net-mvc-4\n",
      "53 asp.net-web-api\n",
      "54 assemblies\n",
      "55 assembly\n",
      "56 async-await\n",
      "57 asynchronous\n",
      "58 attributes\n",
      "59 audio\n",
      "60 authentication\n",
      "61 autocomplete\n",
      "62 automated-tests\n",
      "63 automatic-ref-counting\n",
      "64 automation\n",
      "65 awk\n",
      "66 azure\n",
      "67 backbone.js\n",
      "68 backup\n",
      "69 base64\n",
      "70 bash\n",
      "71 batch-file\n",
      "72 binary\n",
      "73 binding\n",
      "74 bit-manipulation\n",
      "75 bitmap\n",
      "76 blackberry\n",
      "77 bluetooth\n",
      "78 boost\n",
      "79 branch\n",
      "80 browser\n",
      "81 build\n",
      "82 build-automation\n",
      "83 build-process\n",
      "84 button\n",
      "85 bytearray\n",
      "86 c\n",
      "87 c#\n",
      "88 c#-3.0\n",
      "89 c#-4.0\n",
      "90 c++\n",
      "91 c++11\n",
      "92 c++14\n",
      "93 c-preprocessor\n",
      "94 caching\n",
      "95 cakephp\n",
      "96 calendar\n",
      "97 callback\n",
      "98 camera\n",
      "99 canvas\n",
      "100 cassandra\n",
      "101 casting\n",
      "102 certificate\n",
      "103 char\n",
      "104 character-encoding\n",
      "105 charts\n",
      "106 checkbox\n",
      "107 clang\n",
      "108 class\n",
      "109 clojure\n",
      "110 clone\n",
      "111 closures\n",
      "112 clr\n",
      "113 cmake\n",
      "114 cmd\n",
      "115 cocoa\n",
      "116 cocoa-touch\n",
      "117 code-coverage\n",
      "118 code-generation\n",
      "119 codeigniter\n",
      "120 coding-style\n",
      "121 coffeescript\n",
      "122 coldfusion\n",
      "123 collections\n",
      "124 colors\n",
      "125 com\n",
      "126 combobox\n",
      "127 command\n",
      "128 command-line\n",
      "129 comments\n",
      "130 common-lisp\n",
      "131 compact-framework\n",
      "132 comparison\n",
      "133 compilation\n",
      "134 compiler-construction\n",
      "135 compression\n",
      "136 computer-science\n",
      "137 computer-vision\n",
      "138 concurrency\n",
      "139 configuration\n",
      "140 console\n",
      "141 const\n",
      "142 constants\n",
      "143 constructor\n",
      "144 continuous-integration\n",
      "145 controller\n",
      "146 controls\n",
      "147 cookies\n",
      "148 copy\n",
      "149 cordova\n",
      "150 core-animation\n",
      "151 core-data\n",
      "152 count\n",
      "153 crash\n",
      "154 cron\n",
      "155 cross-browser\n",
      "156 cross-platform\n",
      "157 cryptography\n",
      "158 crystal-reports\n",
      "159 css\n",
      "160 css-selectors\n",
      "161 css3\n",
      "162 csv\n",
      "163 curl\n",
      "164 cvs\n",
      "165 cygwin\n",
      "166 d3.js\n",
      "167 dart\n",
      "168 data-binding\n",
      "169 data-structures\n",
      "170 data.table\n",
      "171 database\n",
      "172 database-design\n",
      "173 dataframe\n",
      "174 datagrid\n",
      "175 datagridview\n",
      "176 dataset\n",
      "177 datatable\n",
      "178 date\n",
      "179 datepicker\n",
      "180 datetime\n",
      "181 debugging\n",
      "182 decimal\n",
      "183 delegates\n",
      "184 delphi\n",
      "185 dependencies\n",
      "186 dependency-injection\n",
      "187 deployment\n",
      "188 design\n",
      "189 design-patterns\n",
      "190 development-environment\n",
      "191 devise\n",
      "192 dialog\n",
      "193 dictionary\n",
      "194 diff\n",
      "195 directory\n",
      "196 django\n",
      "197 django-admin\n",
      "198 django-forms\n",
      "199 django-models\n",
      "200 django-templates\n",
      "201 dll\n",
      "202 dns\n",
      "203 docker\n",
      "204 doctrine2\n",
      "205 documentation\n",
      "206 dom\n",
      "207 domain-driven-design\n",
      "208 double\n",
      "209 download\n",
      "210 drag-and-drop\n",
      "211 drop-down-menu\n",
      "212 dvcs\n",
      "213 dynamic\n",
      "214 eclipse\n",
      "215 eclipse-plugin\n",
      "216 ecmascript-6\n",
      "217 editor\n",
      "218 ef-code-first\n",
      "219 elasticsearch\n",
      "220 elisp\n",
      "221 emacs\n",
      "222 email\n",
      "223 embedded\n",
      "224 ember.js\n",
      "225 encoding\n",
      "226 encryption\n",
      "227 entity-framework\n",
      "228 entity-framework-4\n",
      "229 enums\n",
      "230 environment-variables\n",
      "231 erlang\n",
      "232 error-handling\n",
      "233 escaping\n",
      "234 event-handling\n",
      "235 events\n",
      "236 excel\n",
      "237 excel-vba\n",
      "238 exception\n",
      "239 exception-handling\n",
      "240 express\n",
      "241 expression\n",
      "242 expression-trees\n",
      "243 extension-methods\n",
      "244 f#\n",
      "245 facebook\n",
      "246 facebook-graph-api\n",
      "247 ffmpeg\n",
      "248 file\n",
      "249 file-io\n",
      "250 file-upload\n",
      "251 filesystems\n",
      "252 filter\n",
      "253 firebase\n",
      "254 firebug\n",
      "255 firefox\n",
      "256 flash\n",
      "257 flask\n",
      "258 flex\n",
      "259 flexbox\n",
      "260 floating-point\n",
      "261 focus\n",
      "262 fonts\n",
      "263 for-loop\n",
      "264 foreach\n",
      "265 foreign-keys\n",
      "266 format\n",
      "267 formatting\n",
      "268 forms\n",
      "269 fortran\n",
      "270 frameworks\n",
      "271 ftp\n",
      "272 full-text-search\n",
      "273 function\n",
      "274 functional-programming\n",
      "275 g++\n",
      "276 garbage-collection\n",
      "277 gcc\n",
      "278 gdb\n",
      "279 gem\n",
      "280 generics\n",
      "281 geolocation\n",
      "282 geometry\n",
      "283 ggplot2\n",
      "284 gis\n",
      "285 git\n",
      "286 github\n",
      "287 gmail\n",
      "288 go\n",
      "289 google-analytics\n",
      "290 google-app-engine\n",
      "291 google-chrome\n",
      "292 google-chrome-extension\n",
      "293 google-maps\n",
      "294 google-maps-api-3\n",
      "295 google-play\n",
      "296 gps\n",
      "297 gradle\n",
      "298 grails\n",
      "299 grammar\n",
      "300 graph\n",
      "301 graph-theory\n",
      "302 graphics\n",
      "303 grep\n",
      "304 gridview\n",
      "305 groovy\n",
      "306 gwt\n",
      "307 hadoop\n",
      "308 hash\n",
      "309 hashmap\n",
      "310 haskell\n",
      "311 header\n",
      "312 heap\n",
      "313 heroku\n",
      "314 hex\n",
      "315 hibernate\n",
      "316 html\n",
      "317 html-table\n",
      "318 html5\n",
      "319 http\n",
      "320 http-headers\n",
      "321 https\n",
      "322 hyperlink\n",
      "323 icons\n",
      "324 ide\n",
      "325 if-statement\n",
      "326 iframe\n",
      "327 iis\n",
      "328 iis-7\n",
      "329 image\n",
      "330 image-processing\n",
      "331 import\n",
      "332 include\n",
      "333 indexing\n",
      "334 inheritance\n",
      "335 initialization\n",
      "336 input\n",
      "337 installation\n",
      "338 installer\n",
      "339 int\n",
      "340 integer\n",
      "341 integration-testing\n",
      "342 intellij-idea\n",
      "343 intellisense\n",
      "344 interface\n",
      "345 interface-builder\n",
      "346 internationalization\n",
      "347 internet-explorer\n",
      "348 internet-explorer-8\n",
      "349 interop\n",
      "350 inversion-of-control\n",
      "351 io\n",
      "352 ionic-framework\n",
      "353 ios\n",
      "354 ios5\n",
      "355 ios8\n",
      "356 ios9\n",
      "357 ipad\n",
      "358 iphone\n",
      "359 ipython\n",
      "360 iteration\n",
      "361 iterator\n",
      "362 jackson\n",
      "363 jar\n",
      "364 java\n",
      "365 java-8\n",
      "366 java-ee\n",
      "367 java-me\n",
      "368 javadoc\n",
      "369 javafx\n",
      "370 javascript\n",
      "371 javascript-events\n",
      "372 jaxb\n",
      "373 jboss\n",
      "374 jdbc\n",
      "375 jenkins\n",
      "376 jni\n",
      "377 join\n",
      "378 jpa\n",
      "379 jquery\n",
      "380 jquery-mobile\n",
      "381 jquery-plugins\n",
      "382 jquery-ui\n",
      "383 jsf\n",
      "384 jsf-2\n",
      "385 json\n",
      "386 json.net\n",
      "387 jsp\n",
      "388 junit\n",
      "389 jvm\n",
      "390 kernel\n",
      "391 keyboard\n",
      "392 keyboard-shortcuts\n",
      "393 knockout.js\n",
      "394 lambda\n",
      "395 language-agnostic\n",
      "396 language-design\n",
      "397 language-lawyer\n",
      "398 laravel\n",
      "399 laravel-4\n",
      "400 laravel-5\n",
      "401 latex\n",
      "402 layout\n",
      "403 ldap\n",
      "404 licensing\n",
      "405 linker\n",
      "406 linq\n",
      "407 linq-to-sql\n",
      "408 linux\n",
      "409 linux-kernel\n",
      "410 lisp\n",
      "411 list\n",
      "412 listbox\n",
      "413 listview\n",
      "414 localization\n",
      "415 locking\n",
      "416 log4j\n",
      "417 log4net\n",
      "418 logging\n",
      "419 login\n",
      "420 loops\n",
      "421 lua\n",
      "422 lucene\n",
      "423 machine-learning\n",
      "424 macos\n",
      "425 macros\n",
      "426 magento\n",
      "427 makefile\n",
      "428 map\n",
      "429 mapreduce\n",
      "430 markdown\n",
      "431 math\n",
      "432 matlab\n",
      "433 matplotlib\n",
      "434 matrix\n",
      "435 maven\n",
      "436 maven-2\n",
      "437 md5\n",
      "438 memory\n",
      "439 memory-leaks\n",
      "440 memory-management\n",
      "441 mercurial\n",
      "442 merge\n",
      "443 metaprogramming\n",
      "444 meteor\n",
      "445 methods\n",
      "446 mfc\n",
      "447 migration\n",
      "448 mobile\n",
      "449 mocking\n",
      "450 mockito\n",
      "451 mod-rewrite\n",
      "452 model\n",
      "453 model-view-controller\n",
      "454 module\n",
      "455 monads\n",
      "456 mongodb\n",
      "457 mongoose\n",
      "458 mono\n",
      "459 moq\n",
      "460 ms-access\n",
      "461 ms-word\n",
      "462 msbuild\n",
      "463 mstest\n",
      "464 multidimensional-array\n",
      "465 multithreading\n",
      "466 mvvm\n",
      "467 mysql\n",
      "468 namespaces\n",
      "469 naming-conventions\n",
      "470 neo4j\n",
      "471 nested\n",
      "472 netbeans\n",
      "473 network-programming\n",
      "474 networking\n",
      "475 nginx\n",
      "476 nhibernate\n",
      "477 nlp\n",
      "478 node.js\n",
      "479 nosql\n",
      "480 notifications\n",
      "481 npm\n",
      "482 nuget\n",
      "483 null\n",
      "484 numbers\n",
      "485 numpy\n",
      "486 nunit\n",
      "487 oauth\n",
      "488 object\n",
      "489 objective-c\n",
      "490 ocaml\n",
      "491 oop\n",
      "492 open-source\n",
      "493 opencv\n",
      "494 opengl\n",
      "495 opengl-es\n",
      "496 openid\n",
      "497 openssl\n",
      "498 operating-system\n",
      "499 operator-overloading\n",
      "500 operators\n",
      "501 optimization\n",
      "502 oracle\n",
      "503 order\n",
      "504 orm\n",
      "505 package\n",
      "506 pandas\n",
      "507 parallel-processing\n",
      "508 parameters\n",
      "509 parse.com\n",
      "510 parsing\n",
      "511 passwords\n",
      "512 path\n",
      "513 pattern-matching\n",
      "514 paypal\n",
      "515 pdf\n",
      "516 pdo\n",
      "517 performance\n",
      "518 perl\n",
      "519 permissions\n",
      "520 persistence\n",
      "521 php\n",
      "522 phpunit\n",
      "523 pipe\n",
      "524 playframework\n",
      "525 plot\n",
      "526 plsql\n",
      "527 plugins\n",
      "528 pointers\n",
      "529 polymorphism\n",
      "530 posix\n",
      "531 post\n",
      "532 postgresql\n",
      "533 powershell\n",
      "534 primefaces\n",
      "535 printf\n",
      "536 printing\n",
      "537 process\n",
      "538 profiling\n",
      "539 programming-languages\n",
      "540 project-management\n",
      "541 properties\n",
      "542 protocols\n",
      "543 proxy\n",
      "544 pthreads\n",
      "545 push-notification\n",
      "546 pyqt\n",
      "547 python\n",
      "548 python-2.7\n",
      "549 python-3.x\n",
      "550 qt\n",
      "551 queue\n",
      "552 r\n",
      "553 rake\n",
      "554 random\n",
      "555 razor\n",
      "556 react-native\n",
      "557 reactjs\n",
      "558 recursion\n",
      "559 redirect\n",
      "560 redis\n",
      "561 refactoring\n",
      "562 reference\n",
      "563 reflection\n",
      "564 regex\n",
      "565 registry\n",
      "566 replace\n",
      "567 reporting-services\n",
      "568 repository\n",
      "569 request\n",
      "570 resharper\n",
      "571 resize\n",
      "572 resources\n",
      "573 responsive-design\n",
      "574 rest\n",
      "575 rotation\n",
      "576 routing\n",
      "577 rspec\n",
      "578 ruby\n",
      "579 ruby-on-rails\n",
      "580 ruby-on-rails-3\n",
      "581 ruby-on-rails-3.1\n",
      "582 ruby-on-rails-4\n",
      "583 rubygems\n",
      "584 runtime\n",
      "585 rust\n",
      "586 safari\n",
      "587 sass\n",
      "588 sbt\n",
      "589 scala\n",
      "590 scalability\n",
      "591 schema\n",
      "592 scheme\n",
      "593 scikit-learn\n",
      "594 scipy\n",
      "595 scope\n",
      "596 scripting\n",
      "597 scroll\n",
      "598 sdk\n",
      "599 search\n",
      "600 security\n",
      "601 sed\n",
      "602 select\n",
      "603 selenium\n",
      "604 selenium-webdriver\n",
      "605 seo\n",
      "606 serial-port\n",
      "607 serialization\n",
      "608 service\n",
      "609 servlets\n",
      "610 session\n",
      "611 set\n",
      "612 settings\n",
      "613 shared-libraries\n",
      "614 sharepoint\n",
      "615 shell\n",
      "616 signals\n",
      "617 silverlight\n",
      "618 singleton\n",
      "619 size\n",
      "620 smtp\n",
      "621 soap\n",
      "622 socket.io\n",
      "623 sockets\n",
      "624 solr\n",
      "625 sorting\n",
      "626 split\n",
      "627 spring\n",
      "628 spring-boot\n",
      "629 spring-mvc\n",
      "630 spring-security\n",
      "631 sql\n",
      "632 sql-server\n",
      "633 sql-server-2005\n",
      "634 sql-server-2008\n",
      "635 sqlalchemy\n",
      "636 sqlite\n",
      "637 ssh\n",
      "638 ssis\n",
      "639 ssl\n",
      "640 stack\n",
      "641 standards\n",
      "642 static\n",
      "643 statistics\n",
      "644 stl\n",
      "645 stored-procedures\n",
      "646 storyboard\n",
      "647 stream\n",
      "648 string\n",
      "649 struct\n",
      "650 subprocess\n",
      "651 svg\n",
      "652 svn\n",
      "653 swift\n",
      "654 swift2\n",
      "655 swift3\n",
      "656 swing\n",
      "657 switch-statement\n",
      "658 symfony\n",
      "659 synchronization\n",
      "660 syntax\n",
      "661 tabs\n",
      "662 tags\n",
      "663 task-parallel-library\n",
      "664 tcp\n",
      "665 tdd\n",
      "666 templates\n",
      "667 terminal\n",
      "668 testing\n",
      "669 text\n",
      "670 textbox\n",
      "671 tfs\n",
      "672 theory\n",
      "673 thread-safety\n",
      "674 time\n",
      "675 timeout\n",
      "676 timer\n",
      "677 timestamp\n",
      "678 timezone\n",
      "679 tomcat\n",
      "680 tortoisesvn\n",
      "681 transactions\n",
      "682 tree\n",
      "683 triggers\n",
      "684 try-catch\n",
      "685 tsql\n",
      "686 tuples\n",
      "687 twitter\n",
      "688 twitter-bootstrap\n",
      "689 type-conversion\n",
      "690 types\n",
      "691 typescript\n",
      "692 ubuntu\n",
      "693 uikit\n",
      "694 uiscrollview\n",
      "695 uitableview\n",
      "696 uitextfield\n",
      "697 uiview\n",
      "698 uiviewcontroller\n",
      "699 uiwebview\n",
      "700 uml\n",
      "701 unicode\n",
      "702 unit-testing\n",
      "703 unix\n",
      "704 upload\n",
      "705 url\n",
      "706 url-rewriting\n",
      "707 usb\n",
      "708 user-controls\n",
      "709 user-interface\n",
      "710 utf-8\n",
      "711 validation\n",
      "712 variables\n",
      "713 vb.net\n",
      "714 vb6\n",
      "715 vba\n",
      "716 vbscript\n",
      "717 vector\n",
      "718 version-control\n",
      "719 versioning\n",
      "720 video\n",
      "721 view\n",
      "722 vim\n",
      "723 visual-c++\n",
      "724 visual-studio\n",
      "725 visual-studio-2005\n",
      "726 visual-studio-2008\n",
      "727 visual-studio-2010\n",
      "728 visual-studio-2012\n",
      "729 visual-studio-2013\n",
      "730 visual-studio-2015\n",
      "731 warnings\n",
      "732 wcf\n",
      "733 web-applications\n",
      "734 web-config\n",
      "735 web-services\n",
      "736 webdriver\n",
      "737 webforms\n",
      "738 webkit\n",
      "739 webpack\n",
      "740 websocket\n",
      "741 webview\n",
      "742 widget\n",
      "743 wiki\n",
      "744 winapi\n",
      "745 windows\n",
      "746 windows-7\n",
      "747 windows-installer\n",
      "748 windows-phone-7\n",
      "749 windows-services\n",
      "750 windows-vista\n",
      "751 windows-xp\n",
      "752 winforms\n",
      "753 wix\n",
      "754 wolfram-mathematica\n",
      "755 wordpress\n",
      "756 wpf\n",
      "757 wsdl\n",
      "758 x86\n",
      "759 xamarin\n",
      "760 xaml\n",
      "761 xcode\n",
      "762 xcode6\n",
      "763 xcode7\n",
      "764 xhtml\n",
      "765 xml\n",
      "766 xml-serialization\n",
      "767 xmlhttprequest\n",
      "768 xpath\n",
      "769 xsd\n",
      "770 xslt\n",
      "771 zend-framework\n",
      "772 zip\n"
     ]
    }
   ],
   "source": [
    "mlb = joblib.load(\"models/MultiLabelBinarizer\")\n",
    "classname = mlb.classes_\n",
    "for i, c in enumerate(classname):\n",
    "    print(i, c)"
   ]
  },
  {
   "cell_type": "code",
   "execution_count": 36,
   "metadata": {},
   "outputs": [
    {
     "name": "stdout",
     "output_type": "stream",
     "text": [
      "machine-learning ['zoom', 'fatal', 'feedback', 'feed', 'featur']\n",
      "pandas ['panda', 'datafram', 'seri', 'feedback', 'feed']\n",
      "dataset ['dataset', 'zoom', 'feel', 'feed', 'featur']\n",
      "algorithm ['algorithm', 'n', 'number', 'tree', 'given']\n",
      "geolocation ['citi', 'zoom', 'fatal', 'feedback', 'feed']\n",
      "git ['git', 'commit', 'branch', 'repositori', 'repo']\n",
      "flexbox ['zoom', 'fault', 'feel', 'feedback', 'feed']\n",
      "python ['python', 'numpi', 'panda', 'django', 'matplotlib']\n",
      "python-2.7 ['python', 'zoom', 'feed', 'feasibl', 'fb']\n",
      "python-3.x ['python', '3', 'zoom', 'featur', 'feasibl']\n"
     ]
    }
   ],
   "source": [
    "for i in [423, 506, 176, 16, 281, 285, 259, 547, 548, 549]:\n",
    "    classifieur = moc.estimators_[i]\n",
    "    index = np.argsort(classifieur.coef_, axis=1)[:, -5:].tolist()[0][::-1]\n",
    "    print(classname[i] , [vocab[i] for i in index])"
   ]
  },
  {
   "cell_type": "markdown",
   "metadata": {},
   "source": [
    "## MLP"
   ]
  },
  {
   "cell_type": "code",
   "execution_count": 6,
   "metadata": {},
   "outputs": [],
   "source": [
    "y_train_clean = load_obj(\"datas/y_train\")\n",
    "y_test_clean = load_obj(\"datas/y_test\")\n",
    "\n",
    "mlb = joblib.load(\"models/MultiLabelBinarizer\")\n",
    "y_train = mlb.transform(y_train_clean)\n",
    "y_test = mlb.transform(y_test_clean)\n",
    "\n",
    "y_test_index = to_index(y_test)\n",
    "y_train_index = to_index(y_train)\n",
    "\n",
    "tfidfMatrix = load_npz('datas/tfidfMatrix.npz')             # on a deja le test set de calculé precedemment\n",
    "tfidfMatrix_test = load_npz('datas/tfidfMatrix_test.npz')"
   ]
  },
  {
   "cell_type": "code",
   "execution_count": 7,
   "metadata": {},
   "outputs": [],
   "source": [
    "from keras.models import Sequential\n",
    "from keras.layers import Dense, Activation\n",
    "from keras.callbacks import EarlyStopping\n",
    "from keras.models import load_model\n",
    "from keras import regularizers"
   ]
  },
  {
   "cell_type": "code",
   "execution_count": 10,
   "metadata": {},
   "outputs": [],
   "source": [
    "# https://stackoverflow.com/questions/44495698/keras-difference-between-kernel-and-activity-regularizers\n",
    "\n",
    "nb_input = tfidfMatrix_test.shape[1]\n",
    "nb_output = y_test.shape[1]\n",
    "\n",
    "model = Sequential()\n",
    "model.add(Dense(1500, input_shape=(nb_input,), kernel_regularizer=regularizers.l1(0.0000005)))  # kernel_regularizer=regularizers.l2(0.01)  https://keras.io/regularizers/\n",
    "model.add(Dense(nb_output, activation=\"sigmoid\"))\n",
    "\n",
    "model.compile(optimizer='Nadam',\n",
    "              loss='binary_crossentropy',\n",
    "              metrics=[\"top_k_categorical_accuracy\"])  # top 5 par defaut\n",
    "\n",
    "early = EarlyStopping(monitor='val_loss', min_delta=0, patience=1, verbose=0, mode='auto')"
   ]
  },
  {
   "cell_type": "code",
   "execution_count": 11,
   "metadata": {},
   "outputs": [
    {
     "name": "stdout",
     "output_type": "stream",
     "text": [
      "Train on 38685 samples, validate on 9672 samples\n",
      "Epoch 1/30\n",
      "38685/38685 [==============================] - 5s 140us/step - loss: 0.0377 - top_k_categorical_accuracy: 0.2527 - val_loss: 0.0177 - val_top_k_categorical_accuracy: 0.3240\n",
      "Epoch 2/30\n",
      "38685/38685 [==============================] - 5s 127us/step - loss: 0.0169 - top_k_categorical_accuracy: 0.3970 - val_loss: 0.0162 - val_top_k_categorical_accuracy: 0.4640\n",
      "Epoch 3/30\n",
      "38685/38685 [==============================] - 5s 128us/step - loss: 0.0158 - top_k_categorical_accuracy: 0.4729 - val_loss: 0.0153 - val_top_k_categorical_accuracy: 0.4959\n",
      "Epoch 4/30\n",
      "38685/38685 [==============================] - 5s 128us/step - loss: 0.0150 - top_k_categorical_accuracy: 0.5040 - val_loss: 0.0148 - val_top_k_categorical_accuracy: 0.5224\n",
      "Epoch 5/30\n",
      "38685/38685 [==============================] - 5s 128us/step - loss: 0.0145 - top_k_categorical_accuracy: 0.5312 - val_loss: 0.0144 - val_top_k_categorical_accuracy: 0.5422\n",
      "Epoch 6/30\n",
      "38685/38685 [==============================] - 5s 127us/step - loss: 0.0141 - top_k_categorical_accuracy: 0.5533 - val_loss: 0.0140 - val_top_k_categorical_accuracy: 0.5596\n",
      "Epoch 7/30\n",
      "38685/38685 [==============================] - 5s 127us/step - loss: 0.0137 - top_k_categorical_accuracy: 0.5718 - val_loss: 0.0138 - val_top_k_categorical_accuracy: 0.5754\n",
      "Epoch 8/30\n",
      "38685/38685 [==============================] - 5s 128us/step - loss: 0.0134 - top_k_categorical_accuracy: 0.5910 - val_loss: 0.0135 - val_top_k_categorical_accuracy: 0.5927\n",
      "Epoch 9/30\n",
      "38685/38685 [==============================] - 5s 127us/step - loss: 0.0132 - top_k_categorical_accuracy: 0.6073 - val_loss: 0.0133 - val_top_k_categorical_accuracy: 0.6078\n",
      "Epoch 10/30\n",
      "38685/38685 [==============================] - 5s 127us/step - loss: 0.0129 - top_k_categorical_accuracy: 0.6216 - val_loss: 0.0131 - val_top_k_categorical_accuracy: 0.6224\n",
      "Epoch 11/30\n",
      "38685/38685 [==============================] - 5s 127us/step - loss: 0.0127 - top_k_categorical_accuracy: 0.6328 - val_loss: 0.0130 - val_top_k_categorical_accuracy: 0.6298\n",
      "Epoch 12/30\n",
      "38685/38685 [==============================] - 5s 128us/step - loss: 0.0125 - top_k_categorical_accuracy: 0.6463 - val_loss: 0.0128 - val_top_k_categorical_accuracy: 0.6385\n",
      "Epoch 13/30\n",
      "38685/38685 [==============================] - 5s 128us/step - loss: 0.0124 - top_k_categorical_accuracy: 0.6551 - val_loss: 0.0127 - val_top_k_categorical_accuracy: 0.6480\n",
      "Epoch 14/30\n",
      "38685/38685 [==============================] - 5s 129us/step - loss: 0.0122 - top_k_categorical_accuracy: 0.6657 - val_loss: 0.0126 - val_top_k_categorical_accuracy: 0.6506\n",
      "Epoch 15/30\n",
      "38685/38685 [==============================] - 5s 130us/step - loss: 0.0121 - top_k_categorical_accuracy: 0.6736 - val_loss: 0.0125 - val_top_k_categorical_accuracy: 0.6588\n",
      "Epoch 16/30\n",
      "38685/38685 [==============================] - 5s 127us/step - loss: 0.0119 - top_k_categorical_accuracy: 0.6807 - val_loss: 0.0124 - val_top_k_categorical_accuracy: 0.6643\n",
      "Epoch 17/30\n",
      "38685/38685 [==============================] - 5s 127us/step - loss: 0.0118 - top_k_categorical_accuracy: 0.6888 - val_loss: 0.0123 - val_top_k_categorical_accuracy: 0.6683\n",
      "Epoch 18/30\n",
      "38685/38685 [==============================] - 5s 128us/step - loss: 0.0117 - top_k_categorical_accuracy: 0.6958 - val_loss: 0.0123 - val_top_k_categorical_accuracy: 0.6795\n"
     ]
    },
    {
     "data": {
      "text/plain": [
       "<keras.callbacks.History at 0x21cb3b93f98>"
      ]
     },
     "execution_count": 11,
     "metadata": {},
     "output_type": "execute_result"
    }
   ],
   "source": [
    "model.fit(x=tfidfMatrix.todense(), y=y_train, batch_size=100, epochs=30, validation_split=0.2, callbacks=[early])"
   ]
  },
  {
   "cell_type": "code",
   "execution_count": 12,
   "metadata": {
    "collapsed": true
   },
   "outputs": [],
   "source": [
    "model.save('models/my_model.h5')"
   ]
  },
  {
   "cell_type": "code",
   "execution_count": 8,
   "metadata": {},
   "outputs": [],
   "source": [
    "from keras.models import load_model\n",
    "\n",
    "model = load_model('models/my_model.h5')\n",
    "proba_train = model.predict(tfidfMatrix.todense(), batch_size=1000)\n",
    "proba_test = model.predict(tfidfMatrix_test.todense(), batch_size=1000)"
   ]
  },
  {
   "cell_type": "code",
   "execution_count": 9,
   "metadata": {},
   "outputs": [
    {
     "name": "stdout",
     "output_type": "stream",
     "text": [
      "train_score =  0.6713774634489525\n",
      "test_score =  0.6457433808554145 \n",
      "\n"
     ]
    }
   ],
   "source": [
    "print(\"train_score = \", score_custom(y_train_index, proba_train))\n",
    "print(\"test_score = \", score_custom(y_test_index, proba_test), \"\\n\")"
   ]
  },
  {
   "cell_type": "markdown",
   "metadata": {},
   "source": [
    "Sans résularisation on a aussi de l'overfitting malgré un Early Stop (85% train vs 72 % test). Par contre avec regularisation, on atteint des résultat meilleur (notament avec l2 = 5e-5). Avec une l1 regularisation a 5e-6, on arrive environ aux perfs du SGDC mais avec un tout petit peu d'overfitting (67% train vs 64.5% test) "
   ]
  },
  {
   "cell_type": "markdown",
   "metadata": {},
   "source": [
    "### Résultats"
   ]
  },
  {
   "cell_type": "code",
   "execution_count": 15,
   "metadata": {},
   "outputs": [
    {
     "name": "stdout",
     "output_type": "stream",
     "text": [
      "Les tags associés au post choisis sont : \n",
      "\tpython\n",
      "\titerator\n",
      "\titeration\n",
      "\n",
      "La prédiction du SGDC est :\n",
      "\tpython (0.72)%\n",
      "\tc++ (0.24)%\n",
      "\tperformance (0.11)%\n",
      "\toptimization (0.02)%\n",
      "\t.net (0.02)%\n"
     ]
    }
   ],
   "source": [
    "index_eval = 0\n",
    "\n",
    "elem = y_test_clean[index_eval]\n",
    "y_pred = model.predict(tfidfMatrix_test[index_eval].todense())\n",
    "classes = np.argsort(y_pred, axis=1)[:, -5:].tolist()[0][::-1]\n",
    "mlb = joblib.load(\"models/MultiLabelBinarizer\")\n",
    "classname = mlb.classes_\n",
    "tags = [classname[classnum] for classnum in classes]\n",
    "\n",
    "print(\"Les tags associés au post choisis sont : \")\n",
    "for tag in elem:\n",
    "    print(\"\\t{}\".format(tag))\n",
    "print(\"\\nLa prédiction du MLPClassifier est :\")\n",
    "for index, tag in enumerate(tags):\n",
    "    print(\"\\t{} ({:.2f})%\".format(tag, y_pred[0][classes[index]]))"
   ]
  }
 ],
 "metadata": {
  "kernelspec": {
   "display_name": "Python 3",
   "language": "python",
   "name": "python3"
  },
  "language_info": {
   "codemirror_mode": {
    "name": "ipython",
    "version": 3
   },
   "file_extension": ".py",
   "mimetype": "text/x-python",
   "name": "python",
   "nbconvert_exporter": "python",
   "pygments_lexer": "ipython3",
   "version": "3.6.3"
  }
 },
 "nbformat": 4,
 "nbformat_minor": 2
}
