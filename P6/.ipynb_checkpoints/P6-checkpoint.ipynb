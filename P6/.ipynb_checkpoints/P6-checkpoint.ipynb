{
 "cells": [
  {
   "cell_type": "code",
   "execution_count": 121,
   "metadata": {
    "collapsed": true
   },
   "outputs": [],
   "source": [
    "import pandas as pd\n",
    "import matplotlib.pyplot as plt\n",
    "import numpy as np\n",
    "import nltk\n",
    "\n",
    "from collections import Counter\n",
    "\n",
    "from sklearn.feature_extraction.text import TfidfVectorizer\n",
    "\n",
    "%matplotlib inline"
   ]
  },
  {
   "cell_type": "code",
   "execution_count": 81,
   "metadata": {
    "collapsed": true
   },
   "outputs": [],
   "source": [
    "# nltk.download()  # 1 fois seulement"
   ]
  },
  {
   "cell_type": "code",
   "execution_count": 108,
   "metadata": {},
   "outputs": [],
   "source": [
    "df = pd.read_csv(\"temp.csv\", encoding = \"ISO-8859-1\")\n",
    "tags = pd.read_csv(\"top104.csv\")"
   ]
  },
  {
   "cell_type": "code",
   "execution_count": 109,
   "metadata": {},
   "outputs": [
    {
     "name": "stdout",
     "output_type": "stream",
     "text": [
      "<class 'pandas.core.frame.DataFrame'>\n",
      "RangeIndex: 9348 entries, 0 to 9347\n",
      "Data columns (total 3 columns):\n",
      "Title    9348 non-null object\n",
      "Tags     9348 non-null object\n",
      "Body     9348 non-null object\n",
      "dtypes: object(3)\n",
      "memory usage: 219.2+ KB\n"
     ]
    }
   ],
   "source": [
    "df.info()"
   ]
  },
  {
   "cell_type": "markdown",
   "metadata": {},
   "source": [
    "## Title"
   ]
  },
  {
   "cell_type": "code",
   "execution_count": null,
   "metadata": {
    "collapsed": true
   },
   "outputs": [],
   "source": []
  },
  {
   "cell_type": "markdown",
   "metadata": {},
   "source": [
    "## Tags"
   ]
  },
  {
   "cell_type": "code",
   "execution_count": 110,
   "metadata": {},
   "outputs": [],
   "source": [
    "taglist = tags[\"TagName\"].tolist()"
   ]
  },
  {
   "cell_type": "code",
   "execution_count": 111,
   "metadata": {
    "collapsed": true
   },
   "outputs": [],
   "source": [
    "labels = df[\"Tags\"].str.replace(\"><\", \"*\").str.replace(\"[><]*\", \"\").str.split(\"*\").tolist()"
   ]
  },
  {
   "cell_type": "code",
   "execution_count": 112,
   "metadata": {},
   "outputs": [
    {
     "data": {
      "text/plain": [
       "5405"
      ]
     },
     "execution_count": 112,
     "metadata": {},
     "output_type": "execute_result"
    }
   ],
   "source": [
    "counter_class = Counter()\n",
    "for post in labels:\n",
    "    for label in post:\n",
    "        counter_class[label] += 1\n",
    "        \n",
    "len(counter_class)"
   ]
  },
  {
   "cell_type": "code",
   "execution_count": 113,
   "metadata": {},
   "outputs": [
    {
     "name": "stdout",
     "output_type": "stream",
     "text": [
      "0\n"
     ]
    }
   ],
   "source": [
    "empty = 0\n",
    "empty_counter = Counter()\n",
    "added = []\n",
    "index = []\n",
    "for i, tl in enumerate(labels):\n",
    "    for key in tl:\n",
    "        if key not in taglist:\n",
    "            empty_counter[key] += 1\n",
    "\n",
    "for key, freq in empty_counter.items():\n",
    "    if freq > 25:\n",
    "        added.append(key)\n",
    "\n",
    "taglist += added\n",
    "for i, tl in enumerate(labels):\n",
    "    labels[i] = [word for word in tl if word in taglist]\n",
    "    if len(labels[i]) == 0:\n",
    "        empty += 1\n",
    "        index.append(i)\n",
    "        for tag in tl:\n",
    "            empty_counter[tag] += 1\n",
    "print(empty)"
   ]
  },
  {
   "cell_type": "code",
   "execution_count": 114,
   "metadata": {},
   "outputs": [
    {
     "data": {
      "text/plain": [
       "194"
      ]
     },
     "execution_count": 114,
     "metadata": {},
     "output_type": "execute_result"
    }
   ],
   "source": [
    "counter_class = Counter()\n",
    "for post in labels:\n",
    "    for label in post:\n",
    "        counter_class[label] += 1\n",
    "        \n",
    "len(counter_class)"
   ]
  },
  {
   "cell_type": "code",
   "execution_count": 98,
   "metadata": {},
   "outputs": [],
   "source": [
    "# df2 = df.drop(df.index[index]).reset_index(drop=True)"
   ]
  },
  {
   "cell_type": "code",
   "execution_count": 105,
   "metadata": {},
   "outputs": [],
   "source": [
    "# df2.to_csv(\"temp.csv\", index=False)"
   ]
  },
  {
   "cell_type": "markdown",
   "metadata": {},
   "source": [
    "## Body"
   ]
  },
  {
   "cell_type": "code",
   "execution_count": 115,
   "metadata": {
    "collapsed": true
   },
   "outputs": [],
   "source": [
    "df[\"Body\"] = df[\"Title\"] + \" \" + df['Body']"
   ]
  },
  {
   "cell_type": "code",
   "execution_count": 116,
   "metadata": {
    "collapsed": true
   },
   "outputs": [],
   "source": [
    "df[\"Body\"] = df[\"Body\"].str.replace(\"<code>[^<]*</code>\", \"\")"
   ]
  },
  {
   "cell_type": "code",
   "execution_count": 117,
   "metadata": {
    "collapsed": true
   },
   "outputs": [],
   "source": [
    "df[\"Body\"] = df[\"Body\"].str.replace(\"<[^>]*>\", \"\")"
   ]
  },
  {
   "cell_type": "code",
   "execution_count": 118,
   "metadata": {
    "collapsed": true
   },
   "outputs": [],
   "source": [
    "df[\"Body\"] = df[\"Body\"].str.replace(\"\\n\", \"\")"
   ]
  },
  {
   "cell_type": "code",
   "execution_count": 119,
   "metadata": {},
   "outputs": [
    {
     "data": {
      "text/plain": [
       "\"Python fstring as function I'd like to use Python f-string for its syntactical simplicity, compared to string.Template() or other approach. However, in my application, the string is loaded from file, and the values of the variable can only be provided later.\\r\\rIf there a way to invoke fstring functionality separate from the string definition? Hopefully code below will better explain what I hope to achieve.\\r\\r\\r\""
      ]
     },
     "execution_count": 119,
     "metadata": {},
     "output_type": "execute_result"
    }
   ],
   "source": [
    "df[\"Body\"].iloc[30]"
   ]
  },
  {
   "cell_type": "code",
   "execution_count": 123,
   "metadata": {
    "collapsed": true
   },
   "outputs": [],
   "source": [
    "corpus = df[\"Body\"].tolist()"
   ]
  },
  {
   "cell_type": "code",
   "execution_count": 124,
   "metadata": {},
   "outputs": [
    {
     "data": {
      "text/plain": [
       "<9348x29395 sparse matrix of type '<class 'numpy.float64'>'\n",
       "\twith 391092 stored elements in Compressed Sparse Row format>"
      ]
     },
     "execution_count": 124,
     "metadata": {},
     "output_type": "execute_result"
    }
   ],
   "source": [
    "cv = TfidfVectorizer(min_df=1, stop_words=\"english\")\n",
    "cv.fit_transform(corpus)"
   ]
  },
  {
   "cell_type": "code",
   "execution_count": 134,
   "metadata": {
    "collapsed": true
   },
   "outputs": [],
   "source": [
    "# count = Counter()\n",
    "# for sentence in corpus:\n",
    "#     for word in sentence:\n",
    "#         count[word] += 1 "
   ]
  },
  {
   "cell_type": "code",
   "execution_count": 138,
   "metadata": {
    "collapsed": true
   },
   "outputs": [],
   "source": [
    "# tokenizer = nltk.RegexpTokenizer(r'\\w+')\n",
    "# stemmer = nltk.stem.PorterStemmer()\n",
    "# sw = set()\n",
    "# sw.update(nltk.corpus.stopwords.words(\"english\"))\n",
    "# sw.update([word for word, freq in count.most_common(100)])\n",
    "\n",
    "# #PunkSentenceTokenizer\n",
    "\n",
    "# for i, sentence in enumerate(corpus):\n",
    "#     temp = tokenizer.tokenize(sentence)\n",
    "#     temp = [word for word in temp if word not in stop_words]\n",
    "#     temp = [stemmer.stem(word) for word in temp]\n",
    "#     corpus[i] = temp"
   ]
  },
  {
   "cell_type": "code",
   "execution_count": 111,
   "metadata": {},
   "outputs": [
    {
     "name": "stdout",
     "output_type": "stream",
     "text": [
      "[('I', 45389), ('use', 11910), ('code', 6067), ('work', 5715), ('like', 5307), ('get', 5185), ('the', 5158), ('tri', 5142), ('error', 4035), ('function', 3966), ('file', 3845), ('follow', 3581), ('would', 3493), ('want', 3435), ('way', 3425), ('1', 3309), ('how', 3292), ('one', 3250), ('2', 3048), ('data', 2997), ('valu', 2888), ('run', 2817), ('0', 2786), ('app', 2759), ('need', 2729), ('creat', 2708), ('call', 2689), ('thi', 2650), ('type', 2647), ('exampl', 2623), ('problem', 2539), ('Is', 2435), ('class', 2434), ('time', 2374), ('3', 2270), ('set', 2257), ('method', 2242), ('also', 2184), ('user', 2172), ('object', 2170), ('differ', 2164), ('chang', 2112), ('know', 2073), ('make', 2063), ('question', 2050), ('but', 2028), ('look', 1967), ('see', 1949), ('return', 1927), ('result', 1927), ('list', 1901), ('So', 1900), ('compil', 1868), ('what', 1835), ('test', 1834), ('In', 1819), ('C', 1812), ('java', 1765), ('issu', 1762), ('first', 1762), ('new', 1737), ('project', 1728), ('seem', 1721), ('It', 1720), ('applic', 1685), ('version', 1681), ('array', 1681), ('someth', 1673), ('4', 1649), ('two', 1649), ('If', 1641), ('could', 1637), ('find', 1626), ('gener', 1617), ('howev', 1586), ('updat', 1568), ('case', 1539), ('My', 1536), ('android', 1533), ('http', 1531), ('help', 1523), ('implement', 1483), ('line', 1469), ('imag', 1460), ('here', 1449), ('possibl', 1442), ('number', 1409), ('output', 1382), ('element', 1373), ('string', 1350), ('without', 1350), ('when', 1349), ('server', 1320), ('add', 1319), ('build', 1310), ('solut', 1301), ('name', 1289), ('show', 1289), ('contain', 1266), ('variabl', 1265), ('tabl', 1229), ('com', 1205), ('page', 1199), ('ad', 1189), ('check', 1173), ('read', 1173), ('start', 1166), ('whi', 1162), ('still', 1144), ('io', 1142), ('and', 1141), ('api', 1121), ('understand', 1111), ('for', 1104), ('python', 1104), ('found', 1102), ('modul', 1084), ('thank', 1080), ('abl', 1079), ('even', 1070), ('messag', 1068), ('fine', 1065), ('request', 1057), ('5', 1056), ('load', 1049), ('librari', 1035), ('queri', 1034), ('anoth', 1031), ('write', 1029), ('fail', 1023), ('current', 1021), ('expect', 1015), ('edit', 1003), ('refer', 990), ('take', 988), ('access', 983), ('row', 972), ('give', 967), ('column', 963), ('except', 957), ('base', 954), ('view', 950), ('execut', 944), ('second', 944), ('document', 940), ('servic', 930), ('instal', 929), ('say', 927), ('9', 912), ('happen', 910), ('point', 910), ('go', 896), ('program', 896), ('store', 896), ('answer', 894), ('think', 894), ('process', 887), ('e', 885), ('oper', 882), ('instead', 867), ('pass', 866), ('window', 865), ('idea', 864), ('sinc', 860), ('ani', 859), ('log', 859), ('10', 848), ('right', 842), ('thread', 835), ('multipl', 827), ('select', 826), ('depend', 825), ('googl', 820), ('text', 816), ('option', 815), ('insid', 814), ('size', 812), ('remov', 809), ('net', 809), ('defin', 808), ('order', 807), ('8', 806), ('loop', 801), ('custom', 800), ('compon', 794), ('paramet', 794), ('click', 794), ('link', 793), ('packag', 792), ('simpl', 789), ('memori', 789), ('key', 785), ('specif', 781), ('everi', 781), ('open', 777), ('thing', 776), ('actual', 775), ('can', 772), ('fix', 771), ('11', 770), ('requir', 767), ('wrong', 763), ('pleas', 759), ('mean', 755), ('control', 755), ('now', 754), ('A', 749), ('databas', 748), ('perform', 746), ('cannot', 746), ('field', 741), ('command', 738), ('form', 734), ('properti', 733), ('sure', 730), ('input', 728), ('6', 724), ('item', 719), ('provid', 717), ('system', 716), ('connect', 714), ('devic', 714), ('post', 712), ('anyon', 707), ('map', 705), ('web', 699), ('note', 698), ('correct', 696), ('model', 696), ('end', 695), ('allow', 692), ('As', 685), ('instanc', 683), ('well', 679), ('script', 679), ('html', 678), ('support', 677), ('includ', 665), ('display', 663), ('button', 661), ('caus', 658), ('event', 657), ('default', 656), ('search', 654), ('initi', 653), ('bit', 653), ('alway', 653), ('mani', 652), ('7', 651), ('miss', 651)]\n",
      "30782\n"
     ]
    }
   ],
   "source": [
    "# print(count.most_common(250))\n",
    "# print(len(count))"
   ]
  },
  {
   "cell_type": "code",
   "execution_count": 112,
   "metadata": {
    "collapsed": true
   },
   "outputs": [],
   "source": [
    "# total = 0\n",
    "# sum_of_word = []\n",
    "# for word, freq in count.items() : # .most_common(250):\n",
    "#     total += freq\n",
    "#     sum_of_word.append(total)"
   ]
  },
  {
   "cell_type": "code",
   "execution_count": 142,
   "metadata": {},
   "outputs": [
    {
     "data": {
      "image/png": "[encoded data removed]",
      "text/plain": [
       "<matplotlib.figure.Figure at 0x1ca3070ba58>"
      ]
     },
     "metadata": {},
     "output_type": "display_data"
    }
   ],
   "source": [
    "# plt.plot(sum_of_word[250:])\n",
    "# plt.show()"
   ]
  },
  {
   "cell_type": "code",
   "execution_count": 114,
   "metadata": {
    "collapsed": true
   },
   "outputs": [],
   "source": [
    "new_stop_word = [word for word, freq in count.most_common(250)]"
   ]
  },
  {
   "cell_type": "code",
   "execution_count": 115,
   "metadata": {},
   "outputs": [
    {
     "data": {
      "text/plain": [
       "['I',\n",
       " 'use',\n",
       " 'code',\n",
       " 'work',\n",
       " 'like',\n",
       " 'get',\n",
       " 'the',\n",
       " 'tri',\n",
       " 'error',\n",
       " 'function',\n",
       " 'file',\n",
       " 'follow',\n",
       " 'would',\n",
       " 'want',\n",
       " 'way',\n",
       " '1',\n",
       " 'how',\n",
       " 'one',\n",
       " '2',\n",
       " 'data',\n",
       " 'valu',\n",
       " 'run',\n",
       " '0',\n",
       " 'app',\n",
       " 'need',\n",
       " 'creat',\n",
       " 'call',\n",
       " 'thi',\n",
       " 'type',\n",
       " 'exampl',\n",
       " 'problem',\n",
       " 'Is',\n",
       " 'class',\n",
       " 'time',\n",
       " '3',\n",
       " 'set',\n",
       " 'method',\n",
       " 'also',\n",
       " 'user',\n",
       " 'object',\n",
       " 'differ',\n",
       " 'chang',\n",
       " 'know',\n",
       " 'make',\n",
       " 'question',\n",
       " 'but',\n",
       " 'look',\n",
       " 'see',\n",
       " 'return',\n",
       " 'result',\n",
       " 'list',\n",
       " 'So',\n",
       " 'compil',\n",
       " 'what',\n",
       " 'test',\n",
       " 'In',\n",
       " 'C',\n",
       " 'java',\n",
       " 'issu',\n",
       " 'first',\n",
       " 'new',\n",
       " 'project',\n",
       " 'seem',\n",
       " 'It',\n",
       " 'applic',\n",
       " 'version',\n",
       " 'array',\n",
       " 'someth',\n",
       " '4',\n",
       " 'two',\n",
       " 'If',\n",
       " 'could',\n",
       " 'find',\n",
       " 'gener',\n",
       " 'howev',\n",
       " 'updat',\n",
       " 'case',\n",
       " 'My',\n",
       " 'android',\n",
       " 'http',\n",
       " 'help',\n",
       " 'implement',\n",
       " 'line',\n",
       " 'imag',\n",
       " 'here',\n",
       " 'possibl',\n",
       " 'number',\n",
       " 'output',\n",
       " 'element',\n",
       " 'string',\n",
       " 'without',\n",
       " 'when',\n",
       " 'server',\n",
       " 'add',\n",
       " 'build',\n",
       " 'solut',\n",
       " 'name',\n",
       " 'show',\n",
       " 'contain',\n",
       " 'variabl',\n",
       " 'tabl',\n",
       " 'com',\n",
       " 'page',\n",
       " 'ad',\n",
       " 'check',\n",
       " 'read',\n",
       " 'start',\n",
       " 'whi',\n",
       " 'still',\n",
       " 'io',\n",
       " 'and',\n",
       " 'api',\n",
       " 'understand',\n",
       " 'for',\n",
       " 'python',\n",
       " 'found',\n",
       " 'modul',\n",
       " 'thank',\n",
       " 'abl',\n",
       " 'even',\n",
       " 'messag',\n",
       " 'fine',\n",
       " 'request',\n",
       " '5',\n",
       " 'load',\n",
       " 'librari',\n",
       " 'queri',\n",
       " 'anoth',\n",
       " 'write',\n",
       " 'fail',\n",
       " 'current',\n",
       " 'expect',\n",
       " 'edit',\n",
       " 'refer',\n",
       " 'take',\n",
       " 'access',\n",
       " 'row',\n",
       " 'give',\n",
       " 'column',\n",
       " 'except',\n",
       " 'base',\n",
       " 'view',\n",
       " 'execut',\n",
       " 'second',\n",
       " 'document',\n",
       " 'servic',\n",
       " 'instal',\n",
       " 'say',\n",
       " '9',\n",
       " 'happen',\n",
       " 'point',\n",
       " 'go',\n",
       " 'program',\n",
       " 'store',\n",
       " 'answer',\n",
       " 'think',\n",
       " 'process',\n",
       " 'e',\n",
       " 'oper',\n",
       " 'instead',\n",
       " 'pass',\n",
       " 'window',\n",
       " 'idea',\n",
       " 'sinc',\n",
       " 'ani',\n",
       " 'log',\n",
       " '10',\n",
       " 'right',\n",
       " 'thread',\n",
       " 'multipl',\n",
       " 'select',\n",
       " 'depend',\n",
       " 'googl',\n",
       " 'text',\n",
       " 'option',\n",
       " 'insid',\n",
       " 'size',\n",
       " 'remov',\n",
       " 'net',\n",
       " 'defin',\n",
       " 'order',\n",
       " '8',\n",
       " 'loop',\n",
       " 'custom',\n",
       " 'compon',\n",
       " 'paramet',\n",
       " 'click',\n",
       " 'link',\n",
       " 'packag',\n",
       " 'simpl',\n",
       " 'memori',\n",
       " 'key',\n",
       " 'specif',\n",
       " 'everi',\n",
       " 'open',\n",
       " 'thing',\n",
       " 'actual',\n",
       " 'can',\n",
       " 'fix',\n",
       " '11',\n",
       " 'requir',\n",
       " 'wrong',\n",
       " 'pleas',\n",
       " 'mean',\n",
       " 'control',\n",
       " 'now',\n",
       " 'A',\n",
       " 'databas',\n",
       " 'perform',\n",
       " 'cannot',\n",
       " 'field',\n",
       " 'command',\n",
       " 'form',\n",
       " 'properti',\n",
       " 'sure',\n",
       " 'input',\n",
       " '6',\n",
       " 'item',\n",
       " 'provid',\n",
       " 'system',\n",
       " 'connect',\n",
       " 'devic',\n",
       " 'post',\n",
       " 'anyon',\n",
       " 'map',\n",
       " 'web',\n",
       " 'note',\n",
       " 'correct',\n",
       " 'model',\n",
       " 'end',\n",
       " 'allow',\n",
       " 'As',\n",
       " 'instanc',\n",
       " 'well',\n",
       " 'script',\n",
       " 'html',\n",
       " 'support',\n",
       " 'includ',\n",
       " 'display',\n",
       " 'button',\n",
       " 'caus',\n",
       " 'event',\n",
       " 'default',\n",
       " 'search',\n",
       " 'initi',\n",
       " 'bit',\n",
       " 'alway',\n",
       " 'mani',\n",
       " '7',\n",
       " 'miss']"
      ]
     },
     "execution_count": 115,
     "metadata": {},
     "output_type": "execute_result"
    }
   ],
   "source": [
    "new_stop_word"
   ]
  },
  {
   "cell_type": "code",
   "execution_count": 116,
   "metadata": {
    "collapsed": true
   },
   "outputs": [],
   "source": [
    "for i, sentence in enumerate(corpus):\n",
    "    temp = [word for word in sentence if word not in new_stop_word]\n",
    "    corpus[i] = temp"
   ]
  },
  {
   "cell_type": "code",
   "execution_count": 126,
   "metadata": {
    "collapsed": true
   },
   "outputs": [],
   "source": [
    "a = [word for word, freq in count.items()]"
   ]
  },
  {
   "cell_type": "code",
   "execution_count": null,
   "metadata": {
    "collapsed": true
   },
   "outputs": [],
   "source": []
  }
 ],
 "metadata": {
  "kernelspec": {
   "display_name": "Python 3",
   "language": "python",
   "name": "python3"
  },
  "language_info": {
   "codemirror_mode": {
    "name": "ipython",
    "version": 3
   },
   "file_extension": ".py",
   "mimetype": "text/x-python",
   "name": "python",
   "nbconvert_exporter": "python",
   "pygments_lexer": "ipython3",
   "version": "3.6.3"
  }
 },
 "nbformat": 4,
 "nbformat_minor": 2
}
