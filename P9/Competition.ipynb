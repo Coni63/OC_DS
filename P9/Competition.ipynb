{
 "cells": [
  {
   "cell_type": "code",
   "execution_count": 7,
   "metadata": {
    "collapsed": true
   },
   "outputs": [],
   "source": [
    "import os\n",
    "import pandas as pd\n",
    "import numpy as np\n",
    "import glob\n",
    "import cv2\n",
    "\n",
    "from itertools import groupby"
   ]
  },
  {
   "cell_type": "code",
   "execution_count": 71,
   "metadata": {
    "collapsed": true
   },
   "outputs": [],
   "source": [
    "def save_obj(obj, name ):\n",
    "    with open(name + '.pkl', 'wb') as f:\n",
    "        pickle.dump(obj, f, pickle.HIGHEST_PROTOCOL)\n",
    "        \n",
    "def load_obj(name):\n",
    "    with open(name + '.pkl', 'rb') as f:\n",
    "        return pickle.load(f)\n",
    "\n",
    "def prepare_image_final(image):\n",
    "    if not is_back_and_white(image):\n",
    "        gray = cv2.cvtColor(image, cv2.COLOR_BGR2GRAY)\n",
    "        gray = cv2.bitwise_not(gray)\n",
    "        gray = boost_contrast(gray)\n",
    "        gray = add_seuillage(gray, level=50)\n",
    "    else:\n",
    "        gray = cv2.cvtColor(image, cv2.COLOR_BGR2GRAY)\n",
    "        if gray.mean() > 150:\n",
    "            gray = cv2.bitwise_not(gray)\n",
    "        gray = boost_contrast(gray)\n",
    "        gray = add_seuillage(gray, level=0)\n",
    "    return gray\n",
    "\n",
    "def is_back_and_white(img):\n",
    "    a = np.array_equiv(image[:, :, 0], image[:, :, 1])\n",
    "    b = np.array_equiv(image[:, :, 1], image[:, :, 2])\n",
    "    return (a and b)\n",
    "\n",
    "def boost_contrast(img):\n",
    "    mini = img.min()\n",
    "    maxi = img.max()\n",
    "    return (img-mini)*(255/(maxi-mini))\n",
    "\n",
    "def add_seuillage(img, level=100):\n",
    "    img = (img-level)*(255/(255-(2*level)))\n",
    "    img = np.clip(img, 0, 255)\n",
    "    return img"
   ]
  },
  {
   "cell_type": "code",
   "execution_count": 107,
   "metadata": {},
   "outputs": [
    {
     "name": "stdout",
     "output_type": "stream",
     "text": [
      "[2, 3, 8, 5, 14, 2, 17, 1, 19, 3, 28, 1, 31, 4, 38, 3, 42, 1, 44, 2, 47, 1, 50, 2, 55, 1, 57, 1, 59, 4, 65, 5, 75, 1, 80, 6, 90, 1, 95, 2]\n",
      "[98, 1]\n"
     ]
    }
   ],
   "source": [
    "from skimage.morphology import label\n",
    "\n",
    "def img_to_rle(img):\n",
    "    result = []\n",
    "    X = img.flatten('F').tolist()\n",
    "    current_index = 1\n",
    "    for k, g in groupby(X):\n",
    "        l = len(list(g))\n",
    "        if k > 0.5:\n",
    "            result.append(current_index)\n",
    "            result.append(l)\n",
    "        current_index += l\n",
    "    return result\n",
    "\n",
    "\"\"\"\n",
    "From Kaggle but I prefer groupby vs loop\n",
    "def rle_encoding(x):\n",
    "    dots = np.where(x.T.flatten() == 1)[0]\n",
    "    run_lengths = []\n",
    "    prev = -2\n",
    "    for b in dots:\n",
    "        if (b>prev+1): run_lengths.extend((b + 1, 0))\n",
    "        run_lengths[-1] += 1\n",
    "        prev = b\n",
    "    return run_lengths\n",
    "\"\"\"\n",
    "\n",
    "def prob_to_rles(x, cutoff=0.5):\n",
    "    # From Kaggle\n",
    "    lab_img = label(x > cutoff)\n",
    "    for i in range(1, lab_img.max() + 1):\n",
    "        #yield rle_encoding(lab_img == i)\n",
    "        yield img_to_rle(lab_img == i)"
   ]
  },
  {
   "cell_type": "markdown",
   "metadata": {},
   "source": [
    "# Model 1\n",
    "\n",
    "First, let's prepare a submission dataset with threshold method."
   ]
  },
  {
   "cell_type": "code",
   "execution_count": 112,
   "metadata": {},
   "outputs": [],
   "source": [
    "img_list = []\n",
    "rle_list = []\n",
    "for img in glob.glob(\"images/test/*/images/*.png\"):\n",
    "    img_name = os.path.basename(img)[:-4]\n",
    "    image = cv2.imread(img)\n",
    "    gray = prepare_image_final(image)\n",
    "    ret1,th1 = cv2.threshold(gray, 40, 1, cv2.THRESH_BINARY)\n",
    "    for rle in prob_to_rles(th1):\n",
    "#     rle = img_to_rle(th1)\n",
    "        img_list.append(img_name)\n",
    "        rle_list.append(rle)"
   ]
  },
  {
   "cell_type": "code",
   "execution_count": 110,
   "metadata": {},
   "outputs": [],
   "source": [
    "df = pd.DataFrame()\n",
    "df['ImageId'] = img_list\n",
    "df['EncodedPixels'] = pd.Series(rle_list).apply(lambda x: ' '.join(str(y) for y in x))\n",
    "df.to_csv('sub-simple_model.csv', index=False)"
   ]
  },
  {
   "cell_type": "markdown",
   "metadata": {},
   "source": [
    "# Model 2"
   ]
  },
  {
   "cell_type": "code",
   "execution_count": null,
   "metadata": {
    "collapsed": true
   },
   "outputs": [],
   "source": []
  }
 ],
 "metadata": {
  "kernelspec": {
   "display_name": "Python 3",
   "language": "python",
   "name": "python3"
  },
  "language_info": {
   "codemirror_mode": {
    "name": "ipython",
    "version": 3
   },
   "file_extension": ".py",
   "mimetype": "text/x-python",
   "name": "python",
   "nbconvert_exporter": "python",
   "pygments_lexer": "ipython3",
   "version": "3.6.3"
  }
 },
 "nbformat": 4,
 "nbformat_minor": 2
}
