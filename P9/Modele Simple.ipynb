{
 "cells": [
  {
   "cell_type": "code",
   "execution_count": 1,
   "metadata": {
    "collapsed": true
   },
   "outputs": [],
   "source": [
    "import os\n",
    "import numpy as np\n",
    "import glob\n",
    "import cv2\n",
    "import matplotlib.pyplot as plt\n",
    "import pandas as pd\n",
    "import seaborn as sns\n",
    "import pickle\n",
    "\n",
    "from collections import Counter\n",
    "from shutil import copyfile\n",
    "from PIL import Image\n",
    "from IPython import display \n",
    "\n",
    "%matplotlib inline"
   ]
  },
  {
   "cell_type": "code",
   "execution_count": 10,
   "metadata": {
    "collapsed": true
   },
   "outputs": [],
   "source": [
    "def save_obj(obj, name ):\n",
    "    with open(name + '.pkl', 'wb') as f:\n",
    "        pickle.dump(obj, f, pickle.HIGHEST_PROTOCOL)\n",
    "        \n",
    "def load_obj(name):\n",
    "    with open(name + '.pkl', 'rb') as f:\n",
    "        return pickle.load(f)\n",
    "\n",
    "def is_back_and_white(img):\n",
    "    a = np.array_equiv(image[:, :, 0], image[:, :, 1])\n",
    "    b = np.array_equiv(image[:, :, 1], image[:, :, 2])\n",
    "    return (a and b)\n",
    "\n",
    "def boost_contrast(img):\n",
    "    mini = img.min()\n",
    "    maxi = img.max()\n",
    "    return (img-mini)*(255/(maxi-mini))\n",
    "\n",
    "def add_seuillage(img, level=100):\n",
    "    img = (img-level)*(255/(255-(2*level)))\n",
    "    img = np.clip(img, 0, 255)\n",
    "    return img\n",
    "\n",
    "def prepare_image_final(image):\n",
    "    if not is_back_and_white(image):\n",
    "        gray = cv2.cvtColor(image, cv2.COLOR_BGR2GRAY)\n",
    "        gray = cv2.bitwise_not(gray)\n",
    "        gray = boost_contrast(gray)\n",
    "        gray = add_seuillage(gray, level=50)\n",
    "    else:\n",
    "        gray = cv2.cvtColor(image, cv2.COLOR_BGR2GRAY)\n",
    "        if gray.mean() > 150:\n",
    "            gray = cv2.bitwise_not(gray)\n",
    "        gray = boost_contrast(gray)\n",
    "        gray = add_seuillage(gray, level=0)\n",
    "    return gray\n",
    "\n",
    "def compute_IoU(pred, mask, trigger=0.999):\n",
    "    pred = (pred>trigger)\n",
    "    mask = (mask>0.9)\n",
    "    union = np.logical_or(pred, mask)\n",
    "    intersection = np.logical_and(pred, mask)\n",
    "    return intersection.sum()/union.sum()"
   ]
  },
  {
   "cell_type": "markdown",
   "metadata": {},
   "source": [
    "# Model\n",
    "\n",
    "For this model, we will just use a threshold on the prepared images. If a pixel is above a certain value, it's 1 or 0. We will move the threshold and measure the IoU score with all scores as per Kaggle's info. As there is no training, we can directly apply the evaluation on the full dataset."
   ]
  },
  {
   "cell_type": "code",
   "execution_count": 25,
   "metadata": {},
   "outputs": [
    {
     "name": "stdout",
     "output_type": "stream",
     "text": [
      "0 0.053432835820895516\n",
      "5 0.07820895522388058\n",
      "10 0.178955223880597\n",
      "15 0.3092537313432836\n",
      "20 0.43582089552238806\n",
      "25 0.5220895522388059\n",
      "30 0.5780597014925374\n",
      "35 0.5992537313432835\n",
      "40 0.6020895522388059\n",
      "45 0.5870149253731344\n",
      "50 0.5635820895522387\n",
      "55 0.5340298507462686\n",
      "60 0.4988059701492539\n",
      "65 0.4598507462686568\n",
      "70 0.4200000000000001\n",
      "75 0.3794029850746269\n",
      "80 0.34298507462686567\n",
      "85 0.30208955223880596\n",
      "90 0.2653731343283582\n",
      "95 0.23119402985074627\n",
      "100 0.20119402985074625\n",
      "105 0.1740298507462687\n",
      "110 0.14686567164179104\n",
      "115 0.12373134328358208\n",
      "120 0.10298507462686568\n",
      "125 0.08208955223880596\n",
      "130 0.06597014925373133\n",
      "135 0.04805970149253731\n",
      "140 0.03641791044776118\n",
      "145 0.026716417910447758\n",
      "150 0.01940298507462686\n",
      "155 0.014626865671641792\n",
      "160 0.010746268656716417\n",
      "165 0.007611940298507464\n",
      "170 0.0053731343283582094\n",
      "175 0.004029850746268656\n",
      "180 0.002985074626865672\n",
      "185 0.0013432835820895521\n"
     ]
    }
   ],
   "source": [
    "steps = [0.5, 0.55, 0.6, 0.65, 0.7, 0.75, 0.8, 0.85, 0.9, 0.95]\n",
    "\n",
    "for t in range(0, 190, 5):\n",
    "    score = {x:[] for x in steps}\n",
    "    for img in glob.glob(\"images/prepared/train/images/*.png\"):\n",
    "        img_name = os.path.basename(img)\n",
    "        mask_path = os.path.join(\"images/prepared/train\", \"masks\", img_name)\n",
    "        image = cv2.imread(img)\n",
    "        mask = cv2.imread(mask_path)\n",
    "\n",
    "        ret1,th1 = cv2.threshold(image, t, 255, cv2.THRESH_BINARY)\n",
    "        iou = compute_IoU(th1, mask)\n",
    "        for step in steps:\n",
    "            if iou > step:\n",
    "                score[step].append(1)\n",
    "            else:\n",
    "                score[step].append(0)\n",
    "    new_score = {key:sum(value)/len(value) for key, value in score.items()}\n",
    "    result = sum(new_score.values())/len(new_score.values())\n",
    "    print(t, result)"
   ]
  },
  {
   "cell_type": "markdown",
   "metadata": {},
   "source": [
    "Except with low threshold, we have very low score. Just to compare, we can see the predicted mask with a given  threshold."
   ]
  },
  {
   "cell_type": "code",
   "execution_count": 27,
   "metadata": {},
   "outputs": [
    {
     "data": {
      "image/png": "[encoded data removed]",
      "text/plain": [
       "<matplotlib.figure.Figure at 0x17359d6f780>"
      ]
     },
     "metadata": {},
     "output_type": "display_data"
    }
   ],
   "source": [
    "size = 5\n",
    "t = 40\n",
    "f, axarr = plt.subplots(2, size, figsize=(20,8))\n",
    "for idx, img in enumerate(glob.glob(\"images/prepared/train/images/*.png\")[:size]):\n",
    "    img_name = os.path.basename(img)\n",
    "    mask_path = os.path.join(\"images/prepared/train\", \"masks\", img_name)\n",
    "    image = cv2.imread(img)\n",
    "    mask = cv2.imread(mask_path)\n",
    "    ret1,th1 = cv2.threshold(image, t, 255, cv2.THRESH_BINARY)\n",
    "    axarr[0, idx].imshow(mask, cmap='gray')\n",
    "    axarr[1, idx].imshow(th1, cmap='gray')\n",
    "plt.show()"
   ]
  },
  {
   "cell_type": "markdown",
   "metadata": {},
   "source": [
    "It's not so bad, just to try, we can fine tune the threshold between 35 and 45"
   ]
  },
  {
   "cell_type": "code",
   "execution_count": 26,
   "metadata": {},
   "outputs": [
    {
     "name": "stdout",
     "output_type": "stream",
     "text": [
      "35 0.5992537313432835\n",
      "36 0.6\n",
      "37 0.6002985074626865\n",
      "38 0.5994029850746267\n",
      "39 0.6016417910447761\n",
      "40 0.6020895522388059\n",
      "41 0.5995522388059702\n",
      "42 0.5982089552238807\n",
      "43 0.5952238805970148\n",
      "44 0.5919402985074627\n"
     ]
    }
   ],
   "source": [
    "steps = [0.5, 0.55, 0.6, 0.65, 0.7, 0.75, 0.8, 0.85, 0.9, 0.95]\n",
    "\n",
    "for t in range(35, 45):\n",
    "    score = {x:[] for x in steps}\n",
    "    for img in glob.glob(\"images/prepared/train/images/*.png\"):\n",
    "        img_name = os.path.basename(img)\n",
    "        mask_path = os.path.join(\"images/prepared/train\", \"masks\", img_name)\n",
    "        image = cv2.imread(img)\n",
    "        mask = cv2.imread(mask_path)\n",
    "\n",
    "        ret1,th1 = cv2.threshold(image, t, 255, cv2.THRESH_BINARY)\n",
    "        iou = compute_IoU(th1, mask)\n",
    "        for step in steps:\n",
    "            if iou > step:\n",
    "                score[step].append(1)\n",
    "            else:\n",
    "                score[step].append(0)\n",
    "    new_score = {key:sum(value)/len(value) for key, value in score.items()}\n",
    "    result = sum(new_score.values())/len(new_score.values())\n",
    "    print(t, result)"
   ]
  },
  {
   "cell_type": "markdown",
   "metadata": {},
   "source": [
    "40 seems to be the best threshold. We will use this threshold to do prediction on test set for Kaggle compettion using this setup"
   ]
  }
 ],
 "metadata": {
  "kernelspec": {
   "display_name": "Python 3",
   "language": "python",
   "name": "python3"
  },
  "language_info": {
   "codemirror_mode": {
    "name": "ipython",
    "version": 3
   },
   "file_extension": ".py",
   "mimetype": "text/x-python",
   "name": "python",
   "nbconvert_exporter": "python",
   "pygments_lexer": "ipython3",
   "version": "3.6.3"
  }
 },
 "nbformat": 4,
 "nbformat_minor": 2
}
