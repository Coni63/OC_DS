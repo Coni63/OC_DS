{
 "cells": [
  {
   "cell_type": "code",
   "execution_count": 1,
   "metadata": {
    "collapsed": true
   },
   "outputs": [],
   "source": [
    "import sys\n",
    "import pandas as pd\n",
    "import pickle\n",
    "import datetime \n",
    "\n",
    "from sklearn.externals import joblib\n",
    "from sklearn.preprocessing import MinMaxScaler\n",
    "from sklearn.ensemble import RandomForestClassifier"
   ]
  },
  {
   "cell_type": "code",
   "execution_count": 2,
   "metadata": {
    "collapsed": true
   },
   "outputs": [],
   "source": [
    "def load_obj(name):\n",
    "    with open(name + '.pkl', 'rb') as f:\n",
    "        return pickle.load(f)\n",
    "    \n",
    "def convert_to_moment(x):\n",
    "    if 6 <= x <12:\n",
    "        return \"Morning\"\n",
    "    elif 12 <= x < 17:\n",
    "        return \"Afternoon\"\n",
    "    elif 17 <= x <=20:\n",
    "        return \"Late\""
   ]
  },
  {
   "cell_type": "code",
   "execution_count": 40,
   "metadata": {
    "collapsed": true
   },
   "outputs": [],
   "source": [
    "df = pd.read_csv(\"test1.csv\", index_col=0)"
   ]
  },
  {
   "cell_type": "code",
   "execution_count": 41,
   "metadata": {},
   "outputs": [
    {
     "name": "stderr",
     "output_type": "stream",
     "text": [
      "C:\\Anaconda501\\lib\\site-packages\\pandas\\core\\ops.py:798: FutureWarning: elementwise comparison failed; returning scalar instead, but in the future will perform elementwise comparison\n",
      "  result = getattr(x, name)(y)\n"
     ]
    },
    {
     "ename": "TypeError",
     "evalue": "invalid type comparison",
     "output_type": "error",
     "traceback": [
      "\u001b[1;31m---------------------------------------------------------------------------\u001b[0m",
      "\u001b[1;31mTypeError\u001b[0m                                 Traceback (most recent call last)",
      "\u001b[1;32m<ipython-input-41-7c454d7c4cdb>\u001b[0m in \u001b[0;36m<module>\u001b[1;34m()\u001b[0m\n\u001b[1;32m----> 1\u001b[1;33m \u001b[0mdf\u001b[0m \u001b[1;33m=\u001b[0m \u001b[0mdf\u001b[0m\u001b[1;33m[\u001b[0m\u001b[1;33m(\u001b[0m\u001b[0mdf\u001b[0m\u001b[1;33m[\u001b[0m\u001b[1;34m\"StockCode\"\u001b[0m\u001b[1;33m]\u001b[0m \u001b[1;33m!=\u001b[0m \u001b[1;34m\"DOT\"\u001b[0m\u001b[1;33m)\u001b[0m \u001b[1;33m&\u001b[0m \u001b[1;33m(\u001b[0m\u001b[0mdf\u001b[0m\u001b[1;33m[\u001b[0m\u001b[1;34m\"StockCode\"\u001b[0m\u001b[1;33m]\u001b[0m \u001b[1;33m!=\u001b[0m \u001b[1;34m\"POST\"\u001b[0m\u001b[1;33m)\u001b[0m\u001b[1;33m]\u001b[0m\u001b[1;33m\u001b[0m\u001b[0m\n\u001b[0m",
      "\u001b[1;32mC:\\Anaconda501\\lib\\site-packages\\pandas\\core\\ops.py\u001b[0m in \u001b[0;36mwrapper\u001b[1;34m(self, other, axis)\u001b[0m\n\u001b[0;32m    859\u001b[0m \u001b[1;33m\u001b[0m\u001b[0m\n\u001b[0;32m    860\u001b[0m             \u001b[1;32mwith\u001b[0m \u001b[0mnp\u001b[0m\u001b[1;33m.\u001b[0m\u001b[0merrstate\u001b[0m\u001b[1;33m(\u001b[0m\u001b[0mall\u001b[0m\u001b[1;33m=\u001b[0m\u001b[1;34m'ignore'\u001b[0m\u001b[1;33m)\u001b[0m\u001b[1;33m:\u001b[0m\u001b[1;33m\u001b[0m\u001b[0m\n\u001b[1;32m--> 861\u001b[1;33m                 \u001b[0mres\u001b[0m \u001b[1;33m=\u001b[0m \u001b[0mna_op\u001b[0m\u001b[1;33m(\u001b[0m\u001b[0mvalues\u001b[0m\u001b[1;33m,\u001b[0m \u001b[0mother\u001b[0m\u001b[1;33m)\u001b[0m\u001b[1;33m\u001b[0m\u001b[0m\n\u001b[0m\u001b[0;32m    862\u001b[0m             \u001b[1;32mif\u001b[0m \u001b[0mis_scalar\u001b[0m\u001b[1;33m(\u001b[0m\u001b[0mres\u001b[0m\u001b[1;33m)\u001b[0m\u001b[1;33m:\u001b[0m\u001b[1;33m\u001b[0m\u001b[0m\n\u001b[0;32m    863\u001b[0m                 raise TypeError('Could not compare %s type with Series' %\n",
      "\u001b[1;32mC:\\Anaconda501\\lib\\site-packages\\pandas\\core\\ops.py\u001b[0m in \u001b[0;36mna_op\u001b[1;34m(x, y)\u001b[0m\n\u001b[0;32m    798\u001b[0m                     \u001b[0mresult\u001b[0m \u001b[1;33m=\u001b[0m \u001b[0mgetattr\u001b[0m\u001b[1;33m(\u001b[0m\u001b[0mx\u001b[0m\u001b[1;33m,\u001b[0m \u001b[0mname\u001b[0m\u001b[1;33m)\u001b[0m\u001b[1;33m(\u001b[0m\u001b[0my\u001b[0m\u001b[1;33m)\u001b[0m\u001b[1;33m\u001b[0m\u001b[0m\n\u001b[0;32m    799\u001b[0m                 \u001b[1;32mif\u001b[0m \u001b[0mresult\u001b[0m \u001b[1;32mis\u001b[0m \u001b[0mNotImplemented\u001b[0m\u001b[1;33m:\u001b[0m\u001b[1;33m\u001b[0m\u001b[0m\n\u001b[1;32m--> 800\u001b[1;33m                     \u001b[1;32mraise\u001b[0m \u001b[0mTypeError\u001b[0m\u001b[1;33m(\u001b[0m\u001b[1;34m\"invalid type comparison\"\u001b[0m\u001b[1;33m)\u001b[0m\u001b[1;33m\u001b[0m\u001b[0m\n\u001b[0m\u001b[0;32m    801\u001b[0m             \u001b[1;32mexcept\u001b[0m \u001b[0mAttributeError\u001b[0m\u001b[1;33m:\u001b[0m\u001b[1;33m\u001b[0m\u001b[0m\n\u001b[0;32m    802\u001b[0m                 \u001b[0mresult\u001b[0m \u001b[1;33m=\u001b[0m \u001b[0mop\u001b[0m\u001b[1;33m(\u001b[0m\u001b[0mx\u001b[0m\u001b[1;33m,\u001b[0m \u001b[0my\u001b[0m\u001b[1;33m)\u001b[0m\u001b[1;33m\u001b[0m\u001b[0m\n",
      "\u001b[1;31mTypeError\u001b[0m: invalid type comparison"
     ]
    }
   ],
   "source": [
    "try:\n",
    "    df = df[(df[\"StockCode\"] != \"DOT\") & (df[\"StockCode\"] != \"POST\")]\n",
    "except:\n",
    "    pass"
   ]
  },
  {
   "cell_type": "code",
   "execution_count": null,
   "metadata": {
    "collapsed": true
   },
   "outputs": [],
   "source": [
    "# on pass s'il n'y a pas de ventes annulés\n",
    "\n",
    "try:\n",
    "    df[\"Cancelled\"] = df[\"InvoiceNo\"].str.startswith(\"C\")\n",
    "    df[\"Cancelled\"] = df[\"Cancelled\"].fillna(False)\n",
    "    df = df[df[\"Cancelled\"] == False]\n",
    "    df.drop(\"Cancelled\", inplace=True, axis=1)\n",
    "except:\n",
    "    pass "
   ]
  },
  {
   "cell_type": "code",
   "execution_count": null,
   "metadata": {
    "collapsed": true
   },
   "outputs": [],
   "source": [
    "df[\"InvoiceDate\"] = df[\"InvoiceDate\"].astype(\"datetime64[ns]\")\n",
    "\n",
    "now = datetime.date(2011, 12, 9)\n",
    "df[\"Recency\"] = now-df[\"InvoiceDate\"]\n",
    "df[\"Recency\"] = pd.to_timedelta(df[\"Recency\"]).astype(\"timedelta64[D]\")\n",
    "\n",
    "df[\"Weekday\"] = df[\"InvoiceDate\"].dt.weekday\n",
    "df[\"Time\"] = df[\"InvoiceDate\"].dt.hour\n",
    "df[\"Time\"] = df[\"Time\"].apply(convert_to_moment)"
   ]
  },
  {
   "cell_type": "code",
   "execution_count": null,
   "metadata": {
    "collapsed": true
   },
   "outputs": [],
   "source": [
    "obj_to_cluster = load_obj(\"encoder_countries\")\n",
    "df[\"Country\"] = df[\"Country\"].apply(lambda x:obj_to_cluster[x])"
   ]
  },
  {
   "cell_type": "code",
   "execution_count": null,
   "metadata": {
    "collapsed": true
   },
   "outputs": [],
   "source": [
    "obj_to_cluster = load_obj(\"dict_obj_cluster\")\n",
    "df[\"Description\"] = df[\"Description\"].apply(lambda x : obj_to_cluster[x])"
   ]
  },
  {
   "cell_type": "code",
   "execution_count": null,
   "metadata": {
    "collapsed": true
   },
   "outputs": [],
   "source": [
    "# df = pd.concat([df, pd.get_dummies(df[\"Time\"])], axis=1)\n",
    "\n",
    "df[\"nb_visits\"] = 1\n",
    "\n",
    "df[\"Afternoon\"] = 0\n",
    "df[\"Late\"] = 0\n",
    "df[\"Morning\"] = 0\n",
    "\n",
    "for i in range(49):\n",
    "    df[\"Cluster_{}\".format(i)] = 0\n",
    "\n",
    "for i in range(6):\n",
    "    df[\"Weekday_{}\".format(i)] = 0\n",
    "    \n",
    "# df.drop([\"Time\", \"Weekday\", \"InvoiceDate\", \"StockCode\"] , axis=1, inplace=True)"
   ]
  },
  {
   "cell_type": "code",
   "execution_count": null,
   "metadata": {},
   "outputs": [],
   "source": [
    "df.info()"
   ]
  },
  {
   "cell_type": "code",
   "execution_count": null,
   "metadata": {
    "collapsed": true
   },
   "outputs": [],
   "source": [
    "df[\"Price\"] = df[\"Quantity\"]*df[\"UnitPrice\"]\n",
    "df[\"price_avg_visits\"] = 0\n",
    "df[\"avg_cart\"] = 0\n",
    "df[\"freq_visit\"] = 0"
   ]
  },
  {
   "cell_type": "code",
   "execution_count": null,
   "metadata": {
    "collapsed": true
   },
   "outputs": [],
   "source": [
    "df = df.reset_index(drop = True)\n",
    "\n",
    "for index, row in df.iterrows():\n",
    "    day = row[\"Weekday\"]\n",
    "    if day == 6:  # car on n'a pas de vente le samedi\n",
    "        day = 5\n",
    "    df.loc[index, \"Weekday_{}\".format(day)] = 1\n",
    "    \n",
    "for index, row in df.iterrows():\n",
    "    cluster = row[\"Description\"]\n",
    "    df.loc[index, \"Cluster_{}\".format(cluster)] = 1\n",
    "    \n",
    "for index, row in df.iterrows():\n",
    "    time = row[\"Time\"]\n",
    "    df.loc[index, time] = 1"
   ]
  },
  {
   "cell_type": "code",
   "execution_count": null,
   "metadata": {},
   "outputs": [],
   "source": [
    "df"
   ]
  },
  {
   "cell_type": "code",
   "execution_count": null,
   "metadata": {
    "collapsed": true
   },
   "outputs": [],
   "source": [
    "df.drop(\"Weekday\", axis=1, inplace=True)"
   ]
  },
  {
   "cell_type": "code",
   "execution_count": null,
   "metadata": {
    "collapsed": true
   },
   "outputs": [],
   "source": [
    "custom_aggregation = {}\n",
    "custom_aggregation[\"Price\"] = \"sum\"\n",
    "custom_aggregation[\"CustomerID\"] = lambda x:x.iloc[0]\n",
    "custom_aggregation[\"Country\"] = lambda x:x.iloc[0]\n",
    "custom_aggregation[\"Quantity\"] = \"sum\"\n",
    "custom_aggregation[\"Recency\"] = lambda x:x.iloc[0]\n",
    "custom_aggregation[\"nb_visits\"] = lambda x:1\n",
    "custom_aggregation[\"freq_visit\"] = lambda x:1\n",
    "for col in df:\n",
    "    if col.startswith((\"Cluster\", \"Weekday\")):\n",
    "        custom_aggregation[col] = \"sum\"\n",
    "    elif col in [\"Afternoon\", \"Late\", \"Morning\"]:\n",
    "        custom_aggregation[col] = \"mean\"\n",
    "\n",
    "partial_df = df.groupby(\"InvoiceNo\").agg(custom_aggregation)"
   ]
  },
  {
   "cell_type": "code",
   "execution_count": null,
   "metadata": {
    "collapsed": true
   },
   "outputs": [],
   "source": [
    "custom_aggregation = {}\n",
    "custom_aggregation[\"nb_visits\"] = \"count\"\n",
    "custom_aggregation[\"Quantity\"] = \"mean\"\n",
    "custom_aggregation[\"Recency\"] = [\"min\", \"max\"]\n",
    "custom_aggregation[\"freq_visit\"] = lambda x:1\n",
    "custom_aggregation[\"Price\"] = \"mean\"\n",
    "custom_aggregation[\"Country\"] = lambda x:x.iloc[0]\n",
    "for col in df:\n",
    "    if col.startswith((\"Cluster\", \"Weekday\")) or col in [\"Afternoon\", \"Late\", \"Morning\"]:\n",
    "        custom_aggregation[col] = \"sum\"\n",
    "        \n",
    "final_df = partial_df.groupby(\"CustomerID\").agg(custom_aggregation)\n",
    "final_df[\"freq_visit\"] = (final_df[\"Recency\", \"max\"] - final_df[\"Recency\", \"min\"])/final_df[\"nb_visits\", \"count\"]"
   ]
  },
  {
   "cell_type": "code",
   "execution_count": null,
   "metadata": {},
   "outputs": [],
   "source": [
    "final_df"
   ]
  },
  {
   "cell_type": "code",
   "execution_count": 42,
   "metadata": {
    "collapsed": true
   },
   "outputs": [],
   "source": [
    "cols = [\n",
    "    'nb_visits', \n",
    "    'Quantity', \n",
    "    'Recency_min', \n",
    "    'Recency_max', \n",
    "    'freq_visit', \n",
    "    'Avg_Price', \n",
    "    'Country', \n",
    "    'Afternoon', \n",
    "    'Late', \n",
    "    'Morning'\n",
    "]\n",
    "\n",
    "for i in range(49):\n",
    "    cols.append(\"Cluster_{}\".format(i))\n",
    "for i in range(6):\n",
    "    cols.append(\"Weekday_{}\".format(i))\n",
    "    \n",
    "final_df.columns = cols"
   ]
  },
  {
   "cell_type": "code",
   "execution_count": 39,
   "metadata": {},
   "outputs": [
    {
     "data": {
      "text/html": [
       "<div>\n",
       "<style>\n",
       "    .dataframe thead tr:only-child th {\n",
       "        text-align: right;\n",
       "    }\n",
       "\n",
       "    .dataframe thead th {\n",
       "        text-align: left;\n",
       "    }\n",
       "\n",
       "    .dataframe tbody tr th {\n",
       "        vertical-align: top;\n",
       "    }\n",
       "</style>\n",
       "<table border=\"1\" class=\"dataframe\">\n",
       "  <thead>\n",
       "    <tr style=\"text-align: right;\">\n",
       "      <th></th>\n",
       "      <th>nb_visits</th>\n",
       "      <th>Quantity</th>\n",
       "      <th>Recency_min</th>\n",
       "      <th>Recency_max</th>\n",
       "      <th>freq_visit</th>\n",
       "      <th>Avg_Price</th>\n",
       "      <th>Country</th>\n",
       "      <th>Afternoon</th>\n",
       "      <th>Late</th>\n",
       "      <th>Morning</th>\n",
       "      <th>...</th>\n",
       "      <th>Cluster_45</th>\n",
       "      <th>Cluster_46</th>\n",
       "      <th>Cluster_47</th>\n",
       "      <th>Cluster_48</th>\n",
       "      <th>Weekday_0</th>\n",
       "      <th>Weekday_1</th>\n",
       "      <th>Weekday_2</th>\n",
       "      <th>Weekday_3</th>\n",
       "      <th>Weekday_4</th>\n",
       "      <th>Weekday_5</th>\n",
       "    </tr>\n",
       "    <tr>\n",
       "      <th>CustomerID</th>\n",
       "      <th></th>\n",
       "      <th></th>\n",
       "      <th></th>\n",
       "      <th></th>\n",
       "      <th></th>\n",
       "      <th></th>\n",
       "      <th></th>\n",
       "      <th></th>\n",
       "      <th></th>\n",
       "      <th></th>\n",
       "      <th></th>\n",
       "      <th></th>\n",
       "      <th></th>\n",
       "      <th></th>\n",
       "      <th></th>\n",
       "      <th></th>\n",
       "      <th></th>\n",
       "      <th></th>\n",
       "      <th></th>\n",
       "      <th></th>\n",
       "      <th></th>\n",
       "    </tr>\n",
       "  </thead>\n",
       "  <tbody>\n",
       "    <tr>\n",
       "      <th>16923.0</th>\n",
       "      <td>19</td>\n",
       "      <td>179.842105</td>\n",
       "      <td>11.0</td>\n",
       "      <td>361.0</td>\n",
       "      <td>18.421053</td>\n",
       "      <td>381.453158</td>\n",
       "      <td>0</td>\n",
       "      <td>4</td>\n",
       "      <td>1</td>\n",
       "      <td>14</td>\n",
       "      <td>...</td>\n",
       "      <td>2</td>\n",
       "      <td>4</td>\n",
       "      <td>18</td>\n",
       "      <td>0</td>\n",
       "      <td>22</td>\n",
       "      <td>2</td>\n",
       "      <td>0</td>\n",
       "      <td>48</td>\n",
       "      <td>0</td>\n",
       "      <td>600</td>\n",
       "    </tr>\n",
       "  </tbody>\n",
       "</table>\n",
       "<p>1 rows × 65 columns</p>\n",
       "</div>"
      ],
      "text/plain": [
       "            nb_visits    Quantity  Recency_min  Recency_max  freq_visit  \\\n",
       "CustomerID                                                                \n",
       "16923.0            19  179.842105         11.0        361.0   18.421053   \n",
       "\n",
       "             Avg_Price  Country  Afternoon  Late  Morning    ...      \\\n",
       "CustomerID                                                   ...       \n",
       "16923.0     381.453158        0          4     1       14    ...       \n",
       "\n",
       "            Cluster_45  Cluster_46  Cluster_47  Cluster_48  Weekday_0  \\\n",
       "CustomerID                                                              \n",
       "16923.0              2           4          18           0         22   \n",
       "\n",
       "            Weekday_1  Weekday_2  Weekday_3  Weekday_4  Weekday_5  \n",
       "CustomerID                                                         \n",
       "16923.0             2          0         48          0        600  \n",
       "\n",
       "[1 rows x 65 columns]"
      ]
     },
     "execution_count": 39,
     "metadata": {},
     "output_type": "execute_result"
    }
   ],
   "source": [
    "final_df"
   ]
  },
  {
   "cell_type": "code",
   "execution_count": 20,
   "metadata": {
    "collapsed": true
   },
   "outputs": [],
   "source": [
    "scaler = joblib.load(\"scaler.pkl\")\n",
    "model = joblib.load(\"final_model.pkl\")"
   ]
  },
  {
   "cell_type": "code",
   "execution_count": 21,
   "metadata": {
    "collapsed": true
   },
   "outputs": [],
   "source": [
    "X = scaler.transform(final_df)"
   ]
  },
  {
   "cell_type": "code",
   "execution_count": 22,
   "metadata": {},
   "outputs": [
    {
     "data": {
      "text/plain": [
       "array([4], dtype=int64)"
      ]
     },
     "execution_count": 22,
     "metadata": {},
     "output_type": "execute_result"
    }
   ],
   "source": [
    "model.predict(X)"
   ]
  },
  {
   "cell_type": "code",
   "execution_count": null,
   "metadata": {
    "collapsed": true
   },
   "outputs": [],
   "source": []
  },
  {
   "cell_type": "code",
   "execution_count": null,
   "metadata": {
    "collapsed": true
   },
   "outputs": [],
   "source": []
  }
 ],
 "metadata": {
  "kernelspec": {
   "display_name": "Python 3",
   "language": "python",
   "name": "python3"
  },
  "language_info": {
   "codemirror_mode": {
    "name": "ipython",
    "version": 3
   },
   "file_extension": ".py",
   "mimetype": "text/x-python",
   "name": "python",
   "nbconvert_exporter": "python",
   "pygments_lexer": "ipython3",
   "version": "3.6.3"
  }
 },
 "nbformat": 4,
 "nbformat_minor": 2
}
