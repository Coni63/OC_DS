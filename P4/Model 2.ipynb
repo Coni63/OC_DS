{
 "cells": [
  {
   "cell_type": "code",
   "execution_count": 1,
   "metadata": {
    "collapsed": true
   },
   "outputs": [],
   "source": [
    "import numpy as np\n",
    "import pandas as pd\n",
    "import matplotlib.pyplot as plt\n",
    "import seaborn as sns\n",
    "import datetime \n",
    "\n",
    "from sklearn.model_selection import train_test_split\n",
    "from sklearn.metrics import mean_squared_error, mean_absolute_error#, mean_squared_log_error\n",
    "\n",
    "%matplotlib inline"
   ]
  },
  {
   "cell_type": "code",
   "execution_count": 2,
   "metadata": {
    "collapsed": true
   },
   "outputs": [],
   "source": [
    "df = pd.read_csv(\"dataset/merged/model2_dataset.csv\")\n",
    "df.dropna(axis=1, how=\"all\", inplace=True)"
   ]
  },
  {
   "cell_type": "code",
   "execution_count": 3,
   "metadata": {},
   "outputs": [
    {
     "name": "stdout",
     "output_type": "stream",
     "text": [
      "<class 'pandas.core.frame.DataFrame'>\n",
      "RangeIndex: 278083 entries, 0 to 278082\n",
      "Data columns (total 7 columns):\n",
      "WEEK                   278083 non-null int64\n",
      "DAY_OF_WEEK            278083 non-null int64\n",
      "FL_HOUR                278083 non-null int64\n",
      "UNIQUE_CARRIER         278083 non-null object\n",
      "ORIGIN_AIRPORT_RANK    278083 non-null float64\n",
      "DEP_DELAY              277654 non-null float64\n",
      "NUM_FLIGHT             278083 non-null int64\n",
      "dtypes: float64(2), int64(4), object(1)\n",
      "memory usage: 14.9+ MB\n"
     ]
    }
   ],
   "source": [
    "df.info()"
   ]
  },
  {
   "cell_type": "code",
   "execution_count": 4,
   "metadata": {
    "collapsed": true
   },
   "outputs": [],
   "source": [
    "df = pd.concat([df, pd.get_dummies(df[\"UNIQUE_CARRIER\"])], axis=1)\n",
    "df = pd.concat([df, pd.get_dummies(df[\"DAY_OF_WEEK\"], prefix=\"DAY_\")], axis=1)\n",
    "df = pd.concat([df, pd.get_dummies(df[\"WEEK\"], prefix=\"WEEK_\")], axis=1)\n",
    "\n",
    "df.drop(\"UNIQUE_CARRIER\", axis=1, inplace = True)\n",
    "df.drop(\"DAY_OF_WEEK\", axis=1, inplace = True)\n",
    "df.drop(\"WEEK\", axis=1, inplace = True)"
   ]
  },
  {
   "cell_type": "code",
   "execution_count": 5,
   "metadata": {
    "collapsed": true
   },
   "outputs": [],
   "source": [
    "df_OHE = df.copy()\n",
    "df_OHE = pd.concat([df_OHE, pd.get_dummies(df[\"ORIGIN_AIRPORT_RANK\"], prefix=\"RANK_\")], axis=1)\n",
    "df_OHE.drop(\"ORIGIN_AIRPORT_RANK\", axis=1, inplace = True)"
   ]
  },
  {
   "cell_type": "code",
   "execution_count": 6,
   "metadata": {},
   "outputs": [
    {
     "data": {
      "text/plain": [
       "429"
      ]
     },
     "execution_count": 6,
     "metadata": {},
     "output_type": "execute_result"
    }
   ],
   "source": [
    "df[\"DEP_DELAY\"].isnull().sum()"
   ]
  },
  {
   "cell_type": "code",
   "execution_count": 7,
   "metadata": {
    "collapsed": true
   },
   "outputs": [],
   "source": [
    "df = df[df[\"DEP_DELAY\"].notnull()]\n",
    "df_OHE = df_OHE[df_OHE[\"DEP_DELAY\"].notnull()]"
   ]
  },
  {
   "cell_type": "code",
   "execution_count": 8,
   "metadata": {
    "collapsed": true
   },
   "outputs": [],
   "source": [
    "X = df.drop(\"DEP_DELAY\", axis=1)\n",
    "y = df[\"DEP_DELAY\"]\n",
    "\n",
    "X_OHE = df_OHE.drop(\"DEP_DELAY\", axis=1)\n",
    "y_OHE = df_OHE[\"DEP_DELAY\"]"
   ]
  },
  {
   "cell_type": "code",
   "execution_count": 9,
   "metadata": {
    "collapsed": true
   },
   "outputs": [],
   "source": [
    "from sklearn.preprocessing import MinMaxScaler\n",
    "\n",
    "scaler = MinMaxScaler()\n",
    "X_scale = scaler.fit_transform(X)\n",
    "X_scale_OHE = scaler.fit_transform(X_OHE)"
   ]
  },
  {
   "cell_type": "code",
   "execution_count": 10,
   "metadata": {
    "collapsed": true
   },
   "outputs": [],
   "source": [
    "from sklearn.model_selection import train_test_split\n",
    "\n",
    "X_train, X_test, y_train, y_test = train_test_split(X_scale, y, test_size=0.2, random_state=42)\n",
    "X_train_OHE, X_test_OHE, y_train_OHE, y_test_OHE = train_test_split(X_scale_OHE, y_OHE, test_size=0.2, random_state=42)"
   ]
  },
  {
   "cell_type": "code",
   "execution_count": 11,
   "metadata": {
    "collapsed": true
   },
   "outputs": [],
   "source": [
    "from sklearn.linear_model import SGDRegressor"
   ]
  },
  {
   "cell_type": "code",
   "execution_count": 13,
   "metadata": {},
   "outputs": [
    {
     "name": "stdout",
     "output_type": "stream",
     "text": [
      "SGD_Regressor ({'loss': 'huber', 'max_iter': 3, 'penalty': None}) : MSE 658.1793, MAE 11.5782\n",
      "\n",
      "SGD_Regressor ({'loss': 'huber', 'max_iter': 3, 'penalty': 'l2'}) : MSE 658.4963, MAE 11.5828\n",
      "\n",
      "SGD_Regressor ({'loss': 'huber', 'max_iter': 3, 'penalty': 'l1'}) : MSE 658.7113, MAE 11.5894\n",
      "\n",
      "SGD_Regressor ({'loss': 'huber', 'max_iter': 5, 'penalty': None}) : MSE 656.1734, MAE 11.4762\n",
      "\n",
      "SGD_Regressor ({'loss': 'huber', 'max_iter': 5, 'penalty': 'l2'}) : MSE 656.5868, MAE 11.4836\n",
      "\n",
      "SGD_Regressor ({'loss': 'huber', 'max_iter': 5, 'penalty': 'l1'}) : MSE 656.6328, MAE 11.4916\n",
      "\n",
      "SGD_Regressor ({'loss': 'huber', 'max_iter': 10, 'penalty': None}) : MSE 652.7607, MAE 11.3114\n",
      "\n",
      "SGD_Regressor ({'loss': 'huber', 'max_iter': 10, 'penalty': 'l2'}) : MSE 653.2546, MAE 11.3257\n",
      "\n",
      "SGD_Regressor ({'loss': 'huber', 'max_iter': 10, 'penalty': 'l1'}) : MSE 653.5153, MAE 11.3336\n",
      "\n",
      "SGD_Regressor ({'l1_ratio': 0.15, 'loss': 'huber', 'max_iter': 3, 'penalty': 'elasticnet'}) : MSE 658.5304, MAE 11.5837\n",
      "\n",
      "SGD_Regressor ({'l1_ratio': 0.15, 'loss': 'huber', 'max_iter': 5, 'penalty': 'elasticnet'}) : MSE 656.5121, MAE 11.4851\n",
      "\n",
      "SGD_Regressor ({'l1_ratio': 0.15, 'loss': 'huber', 'max_iter': 10, 'penalty': 'elasticnet'}) : MSE 653.2961, MAE 11.3269\n",
      "\n",
      "SGD_Regressor ({'l1_ratio': 0.5, 'loss': 'huber', 'max_iter': 3, 'penalty': 'elasticnet'}) : MSE 658.6680, MAE 11.5858\n",
      "\n",
      "SGD_Regressor ({'l1_ratio': 0.5, 'loss': 'huber', 'max_iter': 5, 'penalty': 'elasticnet'}) : MSE 656.5429, MAE 11.4880\n",
      "\n",
      "SGD_Regressor ({'l1_ratio': 0.5, 'loss': 'huber', 'max_iter': 10, 'penalty': 'elasticnet'}) : MSE 653.2865, MAE 11.3297\n",
      "\n",
      "SGD_Regressor ({'l1_ratio': 0.85, 'loss': 'huber', 'max_iter': 3, 'penalty': 'elasticnet'}) : MSE 658.5997, MAE 11.5887\n",
      "\n",
      "SGD_Regressor ({'l1_ratio': 0.85, 'loss': 'huber', 'max_iter': 5, 'penalty': 'elasticnet'}) : MSE 656.6145, MAE 11.4905\n",
      "\n",
      "SGD_Regressor ({'l1_ratio': 0.85, 'loss': 'huber', 'max_iter': 10, 'penalty': 'elasticnet'}) : MSE 653.4028, MAE 11.3324\n",
      "\n"
     ]
    }
   ],
   "source": [
    "from sklearn.model_selection import ParameterGrid\n",
    "\n",
    "params = [\n",
    "    {\n",
    "    \"loss\" : [\"huber\"],\n",
    "    \"penalty\" : [None, 'l2', 'l1'],\n",
    "    \"max_iter\": [3, 5, 10]\n",
    "    },\n",
    "    {\n",
    "    \"loss\" : [\"huber\"],\n",
    "    \"penalty\" : ['elasticnet'],\n",
    "    \"l1_ratio\" : [0.15, 0.50, 0.85],\n",
    "    \"max_iter\": [3, 5, 10]\n",
    "    }]\n",
    "\n",
    "for param in ParameterGrid(params):\n",
    "    model = SGDRegressor(**param)\n",
    "    model.fit(X_train, y_train)\n",
    "\n",
    "    y_pred = model.predict(X_test)\n",
    "\n",
    "    MSE = mean_squared_error(y_test, y_pred)\n",
    "    MAE = mean_absolute_error(y_test, y_pred)\n",
    "    print(\"SGD_Regressor ({}) : MSE {:.4f}, MAE {:.4f}\\n\".format(param, MSE, MAE) )"
   ]
  },
  {
   "cell_type": "code",
   "execution_count": 26,
   "metadata": {},
   "outputs": [
    {
     "name": "stdout",
     "output_type": "stream",
     "text": [
      "653.261923984 11.3268250259\n"
     ]
    }
   ],
   "source": [
    "param = {'l1_ratio': 0.15, 'loss': 'huber', 'max_iter': 10, 'penalty': 'elasticnet'}\n",
    "model = SGDRegressor(**param)\n",
    "model.fit(X_train, y_train)\n",
    "\n",
    "y_pred = model.predict(X_test)\n",
    "\n",
    "MSE = mean_squared_error(y_test, y_pred)\n",
    "MAE = mean_absolute_error(y_test, y_pred)\n",
    "print(MSE, MAE)"
   ]
  },
  {
   "cell_type": "code",
   "execution_count": 16,
   "metadata": {},
   "outputs": [
    {
     "name": "stdout",
     "output_type": "stream",
     "text": [
      "SGD_Regressor ({'loss': 'huber', 'max_iter': 3, 'penalty': None}) : MSE 658.9657, MAE 11.4878\n",
      "\n",
      "SGD_Regressor ({'loss': 'huber', 'max_iter': 3, 'penalty': 'l2'}) : MSE 659.1308, MAE 11.4936\n",
      "\n",
      "SGD_Regressor ({'loss': 'huber', 'max_iter': 3, 'penalty': 'l1'}) : MSE 659.7073, MAE 11.5014\n",
      "\n",
      "SGD_Regressor ({'loss': 'huber', 'max_iter': 5, 'penalty': None}) : MSE 656.1858, MAE 11.3776\n",
      "\n",
      "SGD_Regressor ({'loss': 'huber', 'max_iter': 5, 'penalty': 'l2'}) : MSE 656.6751, MAE 11.3862\n",
      "\n",
      "SGD_Regressor ({'loss': 'huber', 'max_iter': 5, 'penalty': 'l1'}) : MSE 656.8595, MAE 11.3937\n",
      "\n",
      "SGD_Regressor ({'loss': 'huber', 'max_iter': 10, 'penalty': None}) : MSE 652.2650, MAE 11.2355\n",
      "\n",
      "SGD_Regressor ({'loss': 'huber', 'max_iter': 10, 'penalty': 'l2'}) : MSE 652.7043, MAE 11.2481\n",
      "\n",
      "SGD_Regressor ({'loss': 'huber', 'max_iter': 10, 'penalty': 'l1'}) : MSE 652.9500, MAE 11.2560\n",
      "\n",
      "SGD_Regressor ({'l1_ratio': 0.15, 'loss': 'huber', 'max_iter': 3, 'penalty': 'elasticnet'}) : MSE 659.3070, MAE 11.4949\n",
      "\n",
      "SGD_Regressor ({'l1_ratio': 0.15, 'loss': 'huber', 'max_iter': 5, 'penalty': 'elasticnet'}) : MSE 656.6118, MAE 11.3871\n",
      "\n",
      "SGD_Regressor ({'l1_ratio': 0.15, 'loss': 'huber', 'max_iter': 10, 'penalty': 'elasticnet'}) : MSE 652.8335, MAE 11.2493\n",
      "\n",
      "SGD_Regressor ({'l1_ratio': 0.5, 'loss': 'huber', 'max_iter': 3, 'penalty': 'elasticnet'}) : MSE 659.4626, MAE 11.4972\n",
      "\n",
      "SGD_Regressor ({'l1_ratio': 0.5, 'loss': 'huber', 'max_iter': 5, 'penalty': 'elasticnet'}) : MSE 656.6444, MAE 11.3898\n",
      "\n",
      "SGD_Regressor ({'l1_ratio': 0.5, 'loss': 'huber', 'max_iter': 10, 'penalty': 'elasticnet'}) : MSE 652.7741, MAE 11.2519\n",
      "\n",
      "SGD_Regressor ({'l1_ratio': 0.85, 'loss': 'huber', 'max_iter': 3, 'penalty': 'elasticnet'}) : MSE 659.3609, MAE 11.4997\n",
      "\n",
      "SGD_Regressor ({'l1_ratio': 0.85, 'loss': 'huber', 'max_iter': 5, 'penalty': 'elasticnet'}) : MSE 656.8761, MAE 11.3930\n",
      "\n",
      "SGD_Regressor ({'l1_ratio': 0.85, 'loss': 'huber', 'max_iter': 10, 'penalty': 'elasticnet'}) : MSE 652.8327, MAE 11.2545\n",
      "\n"
     ]
    }
   ],
   "source": [
    "from sklearn.model_selection import ParameterGrid\n",
    "\n",
    "params = [\n",
    "    {\n",
    "    \"loss\" : [\"huber\"],\n",
    "    \"penalty\" : [None, 'l2', 'l1'],\n",
    "    \"max_iter\": [3, 5, 10]\n",
    "    },\n",
    "    {\n",
    "    \"loss\" : [\"huber\"],\n",
    "    \"penalty\" : ['elasticnet'],\n",
    "    \"l1_ratio\" : [0.15, 0.50, 0.85],\n",
    "    \"max_iter\": [3, 5, 10]\n",
    "    }]\n",
    "\n",
    "for param in ParameterGrid(params):\n",
    "    model = SGDRegressor(**param)\n",
    "    model.fit(X_train_OHE, y_train_OHE)\n",
    "\n",
    "    y_pred_OHE = model.predict(X_test_OHE)\n",
    "\n",
    "    MSE = mean_squared_error(y_test_OHE, y_pred_OHE)\n",
    "    MAE = mean_absolute_error(y_test_OHE, y_pred_OHE)\n",
    "    print(\"SGD_Regressor ({}) : MSE {:.4f}, MAE {:.4f}\\n\".format(param, MSE, MAE) )"
   ]
  },
  {
   "cell_type": "code",
   "execution_count": 27,
   "metadata": {},
   "outputs": [
    {
     "name": "stdout",
     "output_type": "stream",
     "text": [
      "652.09411332 11.2354417471\n"
     ]
    }
   ],
   "source": [
    "param_OHE = {'loss': 'huber', 'max_iter': 10, 'penalty': None}\n",
    "model_OHE = SGDRegressor(**param_OHE)\n",
    "model_OHE.fit(X_train_OHE, y_train_OHE)\n",
    "\n",
    "y_pred_OHE = model_OHE.predict(X_test_OHE)\n",
    "\n",
    "MSE = mean_squared_error(y_test_OHE, y_pred_OHE)\n",
    "MAE = mean_absolute_error(y_test_OHE, y_pred_OHE)\n",
    "print(MSE, MAE)"
   ]
  },
  {
   "cell_type": "code",
   "execution_count": 18,
   "metadata": {},
   "outputs": [
    {
     "name": "stdout",
     "output_type": "stream",
     "text": [
      "6.92857142857 \t 2.40551370154 \t 2.83640041458\n",
      "3.0 \t -0.118836281086 \t -1.57755473265\n",
      "1.0 \t 2.23467705077 \t 2.29855651161\n",
      "-5.75 \t -1.35385191998 \t -4.30415055417\n",
      "-3.16666666667 \t 0.382251580972 \t -1.27844155111\n",
      "0.75 \t 1.30763285521 \t 1.07658079865\n",
      "-4.0 \t 2.44124984782 \t 2.12959081608\n",
      "10.5 \t 0.553657179216 \t -0.515393885279\n",
      "-0.722222222222 \t 3.56508095564 \t 4.47198343785\n",
      "16.4571428571 \t 1.89140810843 \t 1.89565691643\n"
     ]
    }
   ],
   "source": [
    "start = 100\n",
    "for x, y, z in zip(y_test[start:start+10], y_pred[start:start+10], y_pred_OHE[start:start+10]):\n",
    "    print(x , \"\\t\", y, \"\\t\", z)"
   ]
  },
  {
   "cell_type": "code",
   "execution_count": 21,
   "metadata": {},
   "outputs": [
    {
     "data": {
      "image/png": "[encoded data removed]",
      "text/plain": [
       "<matplotlib.figure.Figure at 0x2141e67f198>"
      ]
     },
     "metadata": {},
     "output_type": "display_data"
    }
   ],
   "source": [
    "width = 50\n",
    "plt.plot(range(width), y_test[start:start+width])\n",
    "plt.plot(range(width), y_pred[start:start+width])\n",
    "plt.plot(range(width), y_pred_OHE[start:start+width])\n",
    "plt.show()"
   ]
  },
  {
   "cell_type": "markdown",
   "metadata": {},
   "source": [
    "# Exploration du modele"
   ]
  },
  {
   "cell_type": "code",
   "execution_count": 40,
   "metadata": {},
   "outputs": [
    {
     "data": {
      "image/png": "[encoded data removed]",
      "text/plain": [
       "<matplotlib.figure.Figure at 0x2142923ca58>"
      ]
     },
     "metadata": {},
     "output_type": "display_data"
    }
   ],
   "source": [
    "import seaborn as sns \n",
    "import pickle\n",
    "\n",
    "width = 0.35\n",
    "x = []\n",
    "x2 = []\n",
    "y = []\n",
    "y2 = []\n",
    "for key, key_ohe, value in zip(model.coef_, model_OHE.coef_, list(df)):\n",
    "    if value.startswith(\"WEEK_\"):\n",
    "        x.append(int(value[6:]))\n",
    "        x2.append(int(value[6:])+width)\n",
    "        y.append(key)\n",
    "        y2.append(key_ohe)\n",
    "\n",
    "\n",
    "# plt.figure(figsize=(20,12))\n",
    "fig, ax = plt.subplots(figsize=(20,12))\n",
    "rects1 = ax.bar(x, y, width, color='r')\n",
    "rects2 = ax.bar(x2, y2, width, color='y')\n",
    "# plt.bar(x, y)\n",
    "# plt.xticks(x_pos, people) \n",
    "plt.ylabel('Popularity Score')\n",
    "plt.show()"
   ]
  },
  {
   "cell_type": "code",
   "execution_count": 42,
   "metadata": {},
   "outputs": [
    {
     "data": {
      "image/png": "[encoded data removed]",
      "text/plain": [
       "<matplotlib.figure.Figure at 0x2142923c588>"
      ]
     },
     "metadata": {},
     "output_type": "display_data"
    }
   ],
   "source": [
    "width = 0.35\n",
    "x = []\n",
    "x2 = []\n",
    "y = []\n",
    "y2 = []\n",
    "for key, key_ohe, value in zip(model.coef_, model_OHE.coef_, list(df)):\n",
    "    if value.startswith(\"DAY_\"):\n",
    "        x.append(int(value[5:]))\n",
    "        x2.append(int(value[5:])+width)\n",
    "        y.append(key)\n",
    "        y2.append(key_ohe)\n",
    "\n",
    "\n",
    "# plt.figure(figsize=(20,12))\n",
    "fig, ax = plt.subplots(figsize=(20,12))\n",
    "rects1 = ax.bar(x, y, width, color='r')\n",
    "rects2 = ax.bar(x2, y2, width, color='y')\n",
    "# plt.bar(x, y)\n",
    "# plt.xticks(x_pos, people) \n",
    "plt.ylabel('Popularity Score')\n",
    "plt.show()"
   ]
  },
  {
   "cell_type": "code",
   "execution_count": 46,
   "metadata": {},
   "outputs": [
    {
     "data": {
      "image/png": "[encoded data removed]",
      "text/plain": [
       "<matplotlib.figure.Figure at 0x21429322ac8>"
      ]
     },
     "metadata": {},
     "output_type": "display_data"
    }
   ],
   "source": [
    "x = []\n",
    "y = []\n",
    "for key, value in zip(model.coef_, list(df)):\n",
    "    if len(value) == 2:\n",
    "        x.append(value)\n",
    "        y.append(key)\n",
    "\n",
    "plt.figure(figsize=(12,12))\n",
    "plt.bar(x, y)\n",
    "\n",
    "# plt.xticks(x_pos, people) \n",
    "plt.ylabel('Popularity Score')\n",
    "plt.show()"
   ]
  },
  {
   "cell_type": "code",
   "execution_count": 53,
   "metadata": {},
   "outputs": [
    {
     "data": {
      "image/png": "[encoded data removed]",
      "text/plain": [
       "<matplotlib.figure.Figure at 0x21429498f60>"
      ]
     },
     "metadata": {},
     "output_type": "display_data"
    }
   ],
   "source": [
    "width = 0.35\n",
    "label = []\n",
    "x = []\n",
    "x2 = []\n",
    "y = []\n",
    "y2 = []\n",
    "mid=[]\n",
    "a = 0\n",
    "for key, key_ohe, value in zip(model.coef_, model_OHE.coef_, list(df)):\n",
    "    if len(value) == 2:\n",
    "        label.append(value)\n",
    "        y.append(key)\n",
    "        y2.append(key_ohe)\n",
    "        x.append(a)\n",
    "        x2.append(a+width)\n",
    "        mid.append(a+width/2)\n",
    "        a += 1\n",
    "\n",
    "# plt.figure(figsize=(20,12))\n",
    "fig, ax = plt.subplots(figsize=(20,12))\n",
    "rects1 = ax.bar(x, y, width, color='r')\n",
    "rects2 = ax.bar(x2, y2, width, color='y')\n",
    "ax.set_xticks(mid)\n",
    "ax.set_xticklabels(label)\n",
    "# plt.bar(x, y)\n",
    "# plt.xticks(x_pos, people) \n",
    "plt.ylabel('Popularity Score')\n",
    "plt.show()"
   ]
  },
  {
   "cell_type": "code",
   "execution_count": 25,
   "metadata": {},
   "outputs": [
    {
     "data": {
      "image/png": "[encoded data removed]",
      "text/plain": [
       "<matplotlib.figure.Figure at 0x21428d71dd8>"
      ]
     },
     "metadata": {},
     "output_type": "display_data"
    }
   ],
   "source": [
    "x = []\n",
    "y = []\n",
    "for key, value in zip(model.coef_, list(df)):\n",
    "    if value in [\"FL_HOUR\", \"ORIGIN_AIRPORT_RANK\", \"DEP_DELAY\", \"NUM_FLIGHT\"] :\n",
    "        x.append(value)\n",
    "        y.append(key)\n",
    "\n",
    "plt.figure(figsize=(12,12))\n",
    "plt.bar(x, y)\n",
    "# plt.xticks(x_pos, people) \n",
    "plt.ylabel('Popularity Score')\n",
    "plt.show()"
   ]
  },
  {
   "cell_type": "code",
   "execution_count": 52,
   "metadata": {},
   "outputs": [
    {
     "data": {
      "image/png": "[encoded data removed]",
      "text/plain": [
       "<matplotlib.figure.Figure at 0x214295e8a90>"
      ]
     },
     "metadata": {},
     "output_type": "display_data"
    }
   ],
   "source": [
    "width = 0.35\n",
    "label = []\n",
    "x = []\n",
    "x2 = []\n",
    "y = []\n",
    "y2 = []\n",
    "mid=[]\n",
    "a = 0\n",
    "for key, key_ohe, value in zip(model.coef_, model_OHE.coef_, list(df)):\n",
    "    if value in [\"FL_HOUR\", \"ORIGIN_AIRPORT_RANK\", \"DEP_DELAY\", \"NUM_FLIGHT\"] :\n",
    "        label.append(value)\n",
    "        y.append(key)\n",
    "        y2.append(key_ohe)\n",
    "        x.append(a)\n",
    "        x2.append(a+width)\n",
    "        mid.append((a+width/2))\n",
    "        a += 1\n",
    "\n",
    "# plt.figure(figsize=(20,12))\n",
    "fig, ax = plt.subplots(figsize=(20,12))\n",
    "rects1 = ax.bar(x, y, width, color='r')\n",
    "rects2 = ax.bar(x2, y2, width, color='y')\n",
    "ax.set_xticks(mid)\n",
    "ax.set_xticklabels(label)\n",
    "# plt.bar(x, y)\n",
    "# plt.xticks(x_pos, people) \n",
    "plt.ylabel('Popularity Score')\n",
    "plt.show()"
   ]
  },
  {
   "cell_type": "code",
   "execution_count": null,
   "metadata": {
    "collapsed": true
   },
   "outputs": [],
   "source": []
  }
 ],
 "metadata": {
  "kernelspec": {
   "display_name": "Python 3",
   "language": "python",
   "name": "python3"
  },
  "language_info": {
   "codemirror_mode": {
    "name": "ipython",
    "version": 3
   },
   "file_extension": ".py",
   "mimetype": "text/x-python",
   "name": "python",
   "nbconvert_exporter": "python",
   "pygments_lexer": "ipython3",
   "version": "3.6.3"
  }
 },
 "nbformat": 4,
 "nbformat_minor": 2
}
